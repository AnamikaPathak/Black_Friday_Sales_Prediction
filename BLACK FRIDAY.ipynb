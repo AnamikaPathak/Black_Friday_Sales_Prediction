{
 "cells": [
  {
   "cell_type": "markdown",
   "id": "6204d6ec",
   "metadata": {},
   "source": [
    "Important Packages "
   ]
  },
  {
   "cell_type": "code",
   "execution_count": 1,
   "id": "179f47d7",
   "metadata": {},
   "outputs": [],
   "source": [
    "import pandas as pd \n",
    "import numpy as np \n",
    "import matplotlib.pyplot as plt \n",
    "import seaborn as sns\n",
    "from sklearn.model_selection import train_test_split\n",
    "from sklearn.linear_model import LinearRegression\n",
    "from sklearn import metrics \n",
    "from sklearn.tree import DecisionTreeClassifier\n",
    "from sklearn.tree import plot_tree"
   ]
  },
  {
   "cell_type": "markdown",
   "id": "bbf33b9c",
   "metadata": {},
   "source": [
    "### Exploratory Data Analysis"
   ]
  },
  {
   "cell_type": "code",
   "execution_count": 2,
   "id": "ab0ee2ff",
   "metadata": {},
   "outputs": [],
   "source": [
    "Data = pd.read_csv (r\"E:\\Data Science\\Black Friday\\train.csv\")"
   ]
  },
  {
   "cell_type": "code",
   "execution_count": 3,
   "id": "b4de9286",
   "metadata": {},
   "outputs": [
    {
     "data": {
      "text/html": [
       "<div>\n",
       "<style scoped>\n",
       "    .dataframe tbody tr th:only-of-type {\n",
       "        vertical-align: middle;\n",
       "    }\n",
       "\n",
       "    .dataframe tbody tr th {\n",
       "        vertical-align: top;\n",
       "    }\n",
       "\n",
       "    .dataframe thead th {\n",
       "        text-align: right;\n",
       "    }\n",
       "</style>\n",
       "<table border=\"1\" class=\"dataframe\">\n",
       "  <thead>\n",
       "    <tr style=\"text-align: right;\">\n",
       "      <th></th>\n",
       "      <th>User_ID</th>\n",
       "      <th>Product_ID</th>\n",
       "      <th>Gender</th>\n",
       "      <th>Age</th>\n",
       "      <th>Occupation</th>\n",
       "      <th>City_Category</th>\n",
       "      <th>Stay_In_Current_City_Years</th>\n",
       "      <th>Marital_Status</th>\n",
       "      <th>Product_Category_1</th>\n",
       "      <th>Product_Category_2</th>\n",
       "      <th>Product_Category_3</th>\n",
       "      <th>Purchase</th>\n",
       "    </tr>\n",
       "  </thead>\n",
       "  <tbody>\n",
       "    <tr>\n",
       "      <th>0</th>\n",
       "      <td>1000001</td>\n",
       "      <td>P00069042</td>\n",
       "      <td>F</td>\n",
       "      <td>0-17</td>\n",
       "      <td>10</td>\n",
       "      <td>A</td>\n",
       "      <td>2</td>\n",
       "      <td>0</td>\n",
       "      <td>3</td>\n",
       "      <td>NaN</td>\n",
       "      <td>NaN</td>\n",
       "      <td>8370</td>\n",
       "    </tr>\n",
       "    <tr>\n",
       "      <th>1</th>\n",
       "      <td>1000001</td>\n",
       "      <td>P00248942</td>\n",
       "      <td>F</td>\n",
       "      <td>0-17</td>\n",
       "      <td>10</td>\n",
       "      <td>A</td>\n",
       "      <td>2</td>\n",
       "      <td>0</td>\n",
       "      <td>1</td>\n",
       "      <td>6.0</td>\n",
       "      <td>14.0</td>\n",
       "      <td>15200</td>\n",
       "    </tr>\n",
       "    <tr>\n",
       "      <th>2</th>\n",
       "      <td>1000001</td>\n",
       "      <td>P00087842</td>\n",
       "      <td>F</td>\n",
       "      <td>0-17</td>\n",
       "      <td>10</td>\n",
       "      <td>A</td>\n",
       "      <td>2</td>\n",
       "      <td>0</td>\n",
       "      <td>12</td>\n",
       "      <td>NaN</td>\n",
       "      <td>NaN</td>\n",
       "      <td>1422</td>\n",
       "    </tr>\n",
       "    <tr>\n",
       "      <th>3</th>\n",
       "      <td>1000001</td>\n",
       "      <td>P00085442</td>\n",
       "      <td>F</td>\n",
       "      <td>0-17</td>\n",
       "      <td>10</td>\n",
       "      <td>A</td>\n",
       "      <td>2</td>\n",
       "      <td>0</td>\n",
       "      <td>12</td>\n",
       "      <td>14.0</td>\n",
       "      <td>NaN</td>\n",
       "      <td>1057</td>\n",
       "    </tr>\n",
       "    <tr>\n",
       "      <th>4</th>\n",
       "      <td>1000002</td>\n",
       "      <td>P00285442</td>\n",
       "      <td>M</td>\n",
       "      <td>55+</td>\n",
       "      <td>16</td>\n",
       "      <td>C</td>\n",
       "      <td>4+</td>\n",
       "      <td>0</td>\n",
       "      <td>8</td>\n",
       "      <td>NaN</td>\n",
       "      <td>NaN</td>\n",
       "      <td>7969</td>\n",
       "    </tr>\n",
       "  </tbody>\n",
       "</table>\n",
       "</div>"
      ],
      "text/plain": [
       "   User_ID Product_ID Gender   Age  Occupation City_Category  \\\n",
       "0  1000001  P00069042      F  0-17          10             A   \n",
       "1  1000001  P00248942      F  0-17          10             A   \n",
       "2  1000001  P00087842      F  0-17          10             A   \n",
       "3  1000001  P00085442      F  0-17          10             A   \n",
       "4  1000002  P00285442      M   55+          16             C   \n",
       "\n",
       "  Stay_In_Current_City_Years  Marital_Status  Product_Category_1  \\\n",
       "0                          2               0                   3   \n",
       "1                          2               0                   1   \n",
       "2                          2               0                  12   \n",
       "3                          2               0                  12   \n",
       "4                         4+               0                   8   \n",
       "\n",
       "   Product_Category_2  Product_Category_3  Purchase  \n",
       "0                 NaN                 NaN      8370  \n",
       "1                 6.0                14.0     15200  \n",
       "2                 NaN                 NaN      1422  \n",
       "3                14.0                 NaN      1057  \n",
       "4                 NaN                 NaN      7969  "
      ]
     },
     "execution_count": 3,
     "metadata": {},
     "output_type": "execute_result"
    }
   ],
   "source": [
    "Data.head()"
   ]
  },
  {
   "cell_type": "markdown",
   "id": "8761a5de",
   "metadata": {},
   "source": [
    "### UNIVARIANT ANALYSIS"
   ]
  },
  {
   "cell_type": "code",
   "execution_count": 4,
   "id": "7972ec35",
   "metadata": {},
   "outputs": [
    {
     "data": {
      "text/plain": [
       "P00265242    1880\n",
       "P00025442    1615\n",
       "P00110742    1612\n",
       "P00112142    1562\n",
       "P00057642    1470\n",
       "             ... \n",
       "P00314842       1\n",
       "P00298842       1\n",
       "P00231642       1\n",
       "P00204442       1\n",
       "P00066342       1\n",
       "Name: Product_ID, Length: 3631, dtype: int64"
      ]
     },
     "execution_count": 4,
     "metadata": {},
     "output_type": "execute_result"
    }
   ],
   "source": [
    "Data ['Product_ID'].value_counts(dropna = False)"
   ]
  },
  {
   "cell_type": "code",
   "execution_count": 5,
   "id": "34f9424b",
   "metadata": {},
   "outputs": [
    {
     "data": {
      "text/plain": [
       "1001680    1026\n",
       "1004277     979\n",
       "1001941     898\n",
       "1001181     862\n",
       "1000889     823\n",
       "           ... \n",
       "1002690       7\n",
       "1002111       7\n",
       "1005810       7\n",
       "1004991       7\n",
       "1000708       6\n",
       "Name: User_ID, Length: 5891, dtype: int64"
      ]
     },
     "execution_count": 5,
     "metadata": {},
     "output_type": "execute_result"
    }
   ],
   "source": [
    "Data ['User_ID'].value_counts(dropna = False)"
   ]
  },
  {
   "cell_type": "code",
   "execution_count": 6,
   "id": "5c1b1559",
   "metadata": {},
   "outputs": [
    {
     "name": "stdout",
     "output_type": "stream",
     "text": [
      "<class 'pandas.core.frame.DataFrame'>\n",
      "RangeIndex: 550068 entries, 0 to 550067\n",
      "Data columns (total 12 columns):\n",
      " #   Column                      Non-Null Count   Dtype  \n",
      "---  ------                      --------------   -----  \n",
      " 0   User_ID                     550068 non-null  int64  \n",
      " 1   Product_ID                  550068 non-null  object \n",
      " 2   Gender                      550068 non-null  object \n",
      " 3   Age                         550068 non-null  object \n",
      " 4   Occupation                  550068 non-null  int64  \n",
      " 5   City_Category               550068 non-null  object \n",
      " 6   Stay_In_Current_City_Years  550068 non-null  object \n",
      " 7   Marital_Status              550068 non-null  int64  \n",
      " 8   Product_Category_1          550068 non-null  int64  \n",
      " 9   Product_Category_2          376430 non-null  float64\n",
      " 10  Product_Category_3          166821 non-null  float64\n",
      " 11  Purchase                    550068 non-null  int64  \n",
      "dtypes: float64(2), int64(5), object(5)\n",
      "memory usage: 50.4+ MB\n"
     ]
    }
   ],
   "source": [
    "Data.info()"
   ]
  },
  {
   "cell_type": "markdown",
   "id": "1dfe589f",
   "metadata": {},
   "source": [
    "##### Comment : As we know that \"Product Id\" and \"User_ID\" both are unique keys so, we can drop them. This will make our EDA more convinient."
   ]
  },
  {
   "cell_type": "code",
   "execution_count": 7,
   "id": "6a7e4833",
   "metadata": {},
   "outputs": [],
   "source": [
    "Data.drop (columns = ['User_ID', 'Product_ID'], inplace = True)"
   ]
  },
  {
   "cell_type": "markdown",
   "id": "1ef878dd",
   "metadata": {},
   "source": [
    "##### GENDER & AGE"
   ]
  },
  {
   "cell_type": "code",
   "execution_count": 8,
   "id": "9ec9ad0c",
   "metadata": {},
   "outputs": [
    {
     "data": {
      "text/plain": [
       "M    414259\n",
       "F    135809\n",
       "Name: Gender, dtype: int64"
      ]
     },
     "execution_count": 8,
     "metadata": {},
     "output_type": "execute_result"
    }
   ],
   "source": [
    "Data ['Gender'].value_counts(dropna = False)"
   ]
  },
  {
   "cell_type": "code",
   "execution_count": 9,
   "id": "b7494bbb",
   "metadata": {},
   "outputs": [
    {
     "name": "stderr",
     "output_type": "stream",
     "text": [
      "C:\\Users\\anami\\anaconda3\\lib\\site-packages\\seaborn\\_decorators.py:36: FutureWarning: Pass the following variable as a keyword arg: x. From version 0.12, the only valid positional argument will be `data`, and passing other arguments without an explicit keyword will result in an error or misinterpretation.\n",
      "  warnings.warn(\n"
     ]
    },
    {
     "data": {
      "image/png": "[encoded data removed]",
      "text/plain": [
       "<Figure size 360x288 with 1 Axes>"
      ]
     },
     "metadata": {
      "needs_background": "light"
     },
     "output_type": "display_data"
    }
   ],
   "source": [
    "plt.figure (figsize = (5,4))\n",
    "sns.countplot (Data ['Gender'])\n",
    "plt.show()"
   ]
  },
  {
   "cell_type": "markdown",
   "id": "1816fe2f",
   "metadata": {},
   "source": [
    "ANALYSIS : As per the above analysis we can see that in our data the ratio of Male are higher than Female. It's almost 3 times more, where the Males are 414259 and Females are 135809."
   ]
  },
  {
   "cell_type": "code",
   "execution_count": 10,
   "id": "01f2b430",
   "metadata": {},
   "outputs": [
    {
     "data": {
      "text/plain": [
       "26-35    219587\n",
       "36-45    110013\n",
       "18-25     99660\n",
       "46-50     45701\n",
       "51-55     38501\n",
       "55+       21504\n",
       "0-17      15102\n",
       "Name: Age, dtype: int64"
      ]
     },
     "execution_count": 10,
     "metadata": {},
     "output_type": "execute_result"
    }
   ],
   "source": [
    "Data ['Age'].value_counts(dropna = False)"
   ]
  },
  {
   "cell_type": "code",
   "execution_count": 11,
   "id": "19f6e6b8",
   "metadata": {},
   "outputs": [
    {
     "name": "stderr",
     "output_type": "stream",
     "text": [
      "C:\\Users\\anami\\anaconda3\\lib\\site-packages\\seaborn\\_decorators.py:36: FutureWarning: Pass the following variable as a keyword arg: x. From version 0.12, the only valid positional argument will be `data`, and passing other arguments without an explicit keyword will result in an error or misinterpretation.\n",
      "  warnings.warn(\n"
     ]
    },
    {
     "data": {
      "image/png": "[encoded data removed]",
      "text/plain": [
       "<Figure size 432x288 with 1 Axes>"
      ]
     },
     "metadata": {
      "needs_background": "light"
     },
     "output_type": "display_data"
    }
   ],
   "source": [
    "sns.countplot (Data ['Age'])\n",
    "plt.show()"
   ]
  },
  {
   "cell_type": "code",
   "execution_count": 12,
   "id": "ba01d908",
   "metadata": {},
   "outputs": [
    {
     "data": {
      "text/html": [
       "<div>\n",
       "<style scoped>\n",
       "    .dataframe tbody tr th:only-of-type {\n",
       "        vertical-align: middle;\n",
       "    }\n",
       "\n",
       "    .dataframe tbody tr th {\n",
       "        vertical-align: top;\n",
       "    }\n",
       "\n",
       "    .dataframe thead th {\n",
       "        text-align: right;\n",
       "    }\n",
       "</style>\n",
       "<table border=\"1\" class=\"dataframe\">\n",
       "  <thead>\n",
       "    <tr style=\"text-align: right;\">\n",
       "      <th></th>\n",
       "      <th>Gender</th>\n",
       "      <th>Age</th>\n",
       "      <th>Occupation</th>\n",
       "      <th>City_Category</th>\n",
       "      <th>Stay_In_Current_City_Years</th>\n",
       "      <th>Marital_Status</th>\n",
       "      <th>Product_Category_1</th>\n",
       "      <th>Product_Category_2</th>\n",
       "      <th>Product_Category_3</th>\n",
       "      <th>Purchase</th>\n",
       "    </tr>\n",
       "  </thead>\n",
       "  <tbody>\n",
       "    <tr>\n",
       "      <th>5</th>\n",
       "      <td>M</td>\n",
       "      <td>26-35</td>\n",
       "      <td>15</td>\n",
       "      <td>A</td>\n",
       "      <td>3</td>\n",
       "      <td>0</td>\n",
       "      <td>1</td>\n",
       "      <td>2.0</td>\n",
       "      <td>NaN</td>\n",
       "      <td>15227</td>\n",
       "    </tr>\n",
       "    <tr>\n",
       "      <th>9</th>\n",
       "      <td>M</td>\n",
       "      <td>26-35</td>\n",
       "      <td>20</td>\n",
       "      <td>A</td>\n",
       "      <td>1</td>\n",
       "      <td>1</td>\n",
       "      <td>8</td>\n",
       "      <td>NaN</td>\n",
       "      <td>NaN</td>\n",
       "      <td>7871</td>\n",
       "    </tr>\n",
       "    <tr>\n",
       "      <th>10</th>\n",
       "      <td>M</td>\n",
       "      <td>26-35</td>\n",
       "      <td>20</td>\n",
       "      <td>A</td>\n",
       "      <td>1</td>\n",
       "      <td>1</td>\n",
       "      <td>5</td>\n",
       "      <td>11.0</td>\n",
       "      <td>NaN</td>\n",
       "      <td>5254</td>\n",
       "    </tr>\n",
       "    <tr>\n",
       "      <th>11</th>\n",
       "      <td>M</td>\n",
       "      <td>26-35</td>\n",
       "      <td>20</td>\n",
       "      <td>A</td>\n",
       "      <td>1</td>\n",
       "      <td>1</td>\n",
       "      <td>8</td>\n",
       "      <td>NaN</td>\n",
       "      <td>NaN</td>\n",
       "      <td>3957</td>\n",
       "    </tr>\n",
       "    <tr>\n",
       "      <th>12</th>\n",
       "      <td>M</td>\n",
       "      <td>26-35</td>\n",
       "      <td>20</td>\n",
       "      <td>A</td>\n",
       "      <td>1</td>\n",
       "      <td>1</td>\n",
       "      <td>8</td>\n",
       "      <td>NaN</td>\n",
       "      <td>NaN</td>\n",
       "      <td>6073</td>\n",
       "    </tr>\n",
       "    <tr>\n",
       "      <th>...</th>\n",
       "      <td>...</td>\n",
       "      <td>...</td>\n",
       "      <td>...</td>\n",
       "      <td>...</td>\n",
       "      <td>...</td>\n",
       "      <td>...</td>\n",
       "      <td>...</td>\n",
       "      <td>...</td>\n",
       "      <td>...</td>\n",
       "      <td>...</td>\n",
       "    </tr>\n",
       "    <tr>\n",
       "      <th>550034</th>\n",
       "      <td>M</td>\n",
       "      <td>26-35</td>\n",
       "      <td>15</td>\n",
       "      <td>B</td>\n",
       "      <td>1</td>\n",
       "      <td>1</td>\n",
       "      <td>20</td>\n",
       "      <td>NaN</td>\n",
       "      <td>NaN</td>\n",
       "      <td>479</td>\n",
       "    </tr>\n",
       "    <tr>\n",
       "      <th>550055</th>\n",
       "      <td>M</td>\n",
       "      <td>26-35</td>\n",
       "      <td>0</td>\n",
       "      <td>A</td>\n",
       "      <td>4+</td>\n",
       "      <td>0</td>\n",
       "      <td>20</td>\n",
       "      <td>NaN</td>\n",
       "      <td>NaN</td>\n",
       "      <td>238</td>\n",
       "    </tr>\n",
       "    <tr>\n",
       "      <th>550056</th>\n",
       "      <td>M</td>\n",
       "      <td>26-35</td>\n",
       "      <td>17</td>\n",
       "      <td>C</td>\n",
       "      <td>4+</td>\n",
       "      <td>0</td>\n",
       "      <td>20</td>\n",
       "      <td>NaN</td>\n",
       "      <td>NaN</td>\n",
       "      <td>254</td>\n",
       "    </tr>\n",
       "    <tr>\n",
       "      <th>550057</th>\n",
       "      <td>M</td>\n",
       "      <td>26-35</td>\n",
       "      <td>0</td>\n",
       "      <td>C</td>\n",
       "      <td>2</td>\n",
       "      <td>1</td>\n",
       "      <td>19</td>\n",
       "      <td>NaN</td>\n",
       "      <td>NaN</td>\n",
       "      <td>61</td>\n",
       "    </tr>\n",
       "    <tr>\n",
       "      <th>550058</th>\n",
       "      <td>M</td>\n",
       "      <td>26-35</td>\n",
       "      <td>12</td>\n",
       "      <td>A</td>\n",
       "      <td>0</td>\n",
       "      <td>1</td>\n",
       "      <td>20</td>\n",
       "      <td>NaN</td>\n",
       "      <td>NaN</td>\n",
       "      <td>121</td>\n",
       "    </tr>\n",
       "  </tbody>\n",
       "</table>\n",
       "<p>168835 rows × 10 columns</p>\n",
       "</div>"
      ],
      "text/plain": [
       "       Gender    Age  Occupation City_Category Stay_In_Current_City_Years  \\\n",
       "5           M  26-35          15             A                          3   \n",
       "9           M  26-35          20             A                          1   \n",
       "10          M  26-35          20             A                          1   \n",
       "11          M  26-35          20             A                          1   \n",
       "12          M  26-35          20             A                          1   \n",
       "...       ...    ...         ...           ...                        ...   \n",
       "550034      M  26-35          15             B                          1   \n",
       "550055      M  26-35           0             A                         4+   \n",
       "550056      M  26-35          17             C                         4+   \n",
       "550057      M  26-35           0             C                          2   \n",
       "550058      M  26-35          12             A                          0   \n",
       "\n",
       "        Marital_Status  Product_Category_1  Product_Category_2  \\\n",
       "5                    0                   1                 2.0   \n",
       "9                    1                   8                 NaN   \n",
       "10                   1                   5                11.0   \n",
       "11                   1                   8                 NaN   \n",
       "12                   1                   8                 NaN   \n",
       "...                ...                 ...                 ...   \n",
       "550034               1                  20                 NaN   \n",
       "550055               0                  20                 NaN   \n",
       "550056               0                  20                 NaN   \n",
       "550057               1                  19                 NaN   \n",
       "550058               1                  20                 NaN   \n",
       "\n",
       "        Product_Category_3  Purchase  \n",
       "5                      NaN     15227  \n",
       "9                      NaN      7871  \n",
       "10                     NaN      5254  \n",
       "11                     NaN      3957  \n",
       "12                     NaN      6073  \n",
       "...                    ...       ...  \n",
       "550034                 NaN       479  \n",
       "550055                 NaN       238  \n",
       "550056                 NaN       254  \n",
       "550057                 NaN        61  \n",
       "550058                 NaN       121  \n",
       "\n",
       "[168835 rows x 10 columns]"
      ]
     },
     "execution_count": 12,
     "metadata": {},
     "output_type": "execute_result"
    }
   ],
   "source": [
    "Data_Male = Data.loc[(Data[\"Gender\"]=='M') & (Data [\"Age\"]== '26-35')]\n",
    "Data_Male"
   ]
  },
  {
   "cell_type": "code",
   "execution_count": 13,
   "id": "ad82b499",
   "metadata": {},
   "outputs": [
    {
     "data": {
      "text/html": [
       "<div>\n",
       "<style scoped>\n",
       "    .dataframe tbody tr th:only-of-type {\n",
       "        vertical-align: middle;\n",
       "    }\n",
       "\n",
       "    .dataframe tbody tr th {\n",
       "        vertical-align: top;\n",
       "    }\n",
       "\n",
       "    .dataframe thead th {\n",
       "        text-align: right;\n",
       "    }\n",
       "</style>\n",
       "<table border=\"1\" class=\"dataframe\">\n",
       "  <thead>\n",
       "    <tr style=\"text-align: right;\">\n",
       "      <th></th>\n",
       "      <th>Gender</th>\n",
       "      <th>Age</th>\n",
       "      <th>Occupation</th>\n",
       "      <th>City_Category</th>\n",
       "      <th>Stay_In_Current_City_Years</th>\n",
       "      <th>Marital_Status</th>\n",
       "      <th>Product_Category_1</th>\n",
       "      <th>Product_Category_2</th>\n",
       "      <th>Product_Category_3</th>\n",
       "      <th>Purchase</th>\n",
       "    </tr>\n",
       "  </thead>\n",
       "  <tbody>\n",
       "    <tr>\n",
       "      <th>47</th>\n",
       "      <td>F</td>\n",
       "      <td>26-35</td>\n",
       "      <td>1</td>\n",
       "      <td>C</td>\n",
       "      <td>1</td>\n",
       "      <td>0</td>\n",
       "      <td>8</td>\n",
       "      <td>17.0</td>\n",
       "      <td>NaN</td>\n",
       "      <td>6171</td>\n",
       "    </tr>\n",
       "    <tr>\n",
       "      <th>48</th>\n",
       "      <td>F</td>\n",
       "      <td>26-35</td>\n",
       "      <td>1</td>\n",
       "      <td>C</td>\n",
       "      <td>1</td>\n",
       "      <td>0</td>\n",
       "      <td>1</td>\n",
       "      <td>2.0</td>\n",
       "      <td>5.0</td>\n",
       "      <td>19327</td>\n",
       "    </tr>\n",
       "    <tr>\n",
       "      <th>49</th>\n",
       "      <td>F</td>\n",
       "      <td>26-35</td>\n",
       "      <td>1</td>\n",
       "      <td>C</td>\n",
       "      <td>1</td>\n",
       "      <td>0</td>\n",
       "      <td>8</td>\n",
       "      <td>13.0</td>\n",
       "      <td>NaN</td>\n",
       "      <td>8027</td>\n",
       "    </tr>\n",
       "    <tr>\n",
       "      <th>124</th>\n",
       "      <td>F</td>\n",
       "      <td>26-35</td>\n",
       "      <td>7</td>\n",
       "      <td>A</td>\n",
       "      <td>3</td>\n",
       "      <td>1</td>\n",
       "      <td>8</td>\n",
       "      <td>NaN</td>\n",
       "      <td>NaN</td>\n",
       "      <td>2230</td>\n",
       "    </tr>\n",
       "    <tr>\n",
       "      <th>125</th>\n",
       "      <td>F</td>\n",
       "      <td>26-35</td>\n",
       "      <td>7</td>\n",
       "      <td>A</td>\n",
       "      <td>3</td>\n",
       "      <td>1</td>\n",
       "      <td>5</td>\n",
       "      <td>8.0</td>\n",
       "      <td>NaN</td>\n",
       "      <td>6940</td>\n",
       "    </tr>\n",
       "    <tr>\n",
       "      <th>...</th>\n",
       "      <td>...</td>\n",
       "      <td>...</td>\n",
       "      <td>...</td>\n",
       "      <td>...</td>\n",
       "      <td>...</td>\n",
       "      <td>...</td>\n",
       "      <td>...</td>\n",
       "      <td>...</td>\n",
       "      <td>...</td>\n",
       "      <td>...</td>\n",
       "    </tr>\n",
       "    <tr>\n",
       "      <th>550051</th>\n",
       "      <td>F</td>\n",
       "      <td>26-35</td>\n",
       "      <td>20</td>\n",
       "      <td>C</td>\n",
       "      <td>3</td>\n",
       "      <td>0</td>\n",
       "      <td>20</td>\n",
       "      <td>NaN</td>\n",
       "      <td>NaN</td>\n",
       "      <td>489</td>\n",
       "    </tr>\n",
       "    <tr>\n",
       "      <th>550059</th>\n",
       "      <td>F</td>\n",
       "      <td>26-35</td>\n",
       "      <td>1</td>\n",
       "      <td>B</td>\n",
       "      <td>1</td>\n",
       "      <td>0</td>\n",
       "      <td>19</td>\n",
       "      <td>NaN</td>\n",
       "      <td>NaN</td>\n",
       "      <td>48</td>\n",
       "    </tr>\n",
       "    <tr>\n",
       "      <th>550061</th>\n",
       "      <td>F</td>\n",
       "      <td>26-35</td>\n",
       "      <td>1</td>\n",
       "      <td>C</td>\n",
       "      <td>1</td>\n",
       "      <td>1</td>\n",
       "      <td>20</td>\n",
       "      <td>NaN</td>\n",
       "      <td>NaN</td>\n",
       "      <td>599</td>\n",
       "    </tr>\n",
       "    <tr>\n",
       "      <th>550064</th>\n",
       "      <td>F</td>\n",
       "      <td>26-35</td>\n",
       "      <td>1</td>\n",
       "      <td>C</td>\n",
       "      <td>3</td>\n",
       "      <td>0</td>\n",
       "      <td>20</td>\n",
       "      <td>NaN</td>\n",
       "      <td>NaN</td>\n",
       "      <td>371</td>\n",
       "    </tr>\n",
       "    <tr>\n",
       "      <th>550065</th>\n",
       "      <td>F</td>\n",
       "      <td>26-35</td>\n",
       "      <td>15</td>\n",
       "      <td>B</td>\n",
       "      <td>4+</td>\n",
       "      <td>1</td>\n",
       "      <td>20</td>\n",
       "      <td>NaN</td>\n",
       "      <td>NaN</td>\n",
       "      <td>137</td>\n",
       "    </tr>\n",
       "  </tbody>\n",
       "</table>\n",
       "<p>50752 rows × 10 columns</p>\n",
       "</div>"
      ],
      "text/plain": [
       "       Gender    Age  Occupation City_Category Stay_In_Current_City_Years  \\\n",
       "47          F  26-35           1             C                          1   \n",
       "48          F  26-35           1             C                          1   \n",
       "49          F  26-35           1             C                          1   \n",
       "124         F  26-35           7             A                          3   \n",
       "125         F  26-35           7             A                          3   \n",
       "...       ...    ...         ...           ...                        ...   \n",
       "550051      F  26-35          20             C                          3   \n",
       "550059      F  26-35           1             B                          1   \n",
       "550061      F  26-35           1             C                          1   \n",
       "550064      F  26-35           1             C                          3   \n",
       "550065      F  26-35          15             B                         4+   \n",
       "\n",
       "        Marital_Status  Product_Category_1  Product_Category_2  \\\n",
       "47                   0                   8                17.0   \n",
       "48                   0                   1                 2.0   \n",
       "49                   0                   8                13.0   \n",
       "124                  1                   8                 NaN   \n",
       "125                  1                   5                 8.0   \n",
       "...                ...                 ...                 ...   \n",
       "550051               0                  20                 NaN   \n",
       "550059               0                  19                 NaN   \n",
       "550061               1                  20                 NaN   \n",
       "550064               0                  20                 NaN   \n",
       "550065               1                  20                 NaN   \n",
       "\n",
       "        Product_Category_3  Purchase  \n",
       "47                     NaN      6171  \n",
       "48                     5.0     19327  \n",
       "49                     NaN      8027  \n",
       "124                    NaN      2230  \n",
       "125                    NaN      6940  \n",
       "...                    ...       ...  \n",
       "550051                 NaN       489  \n",
       "550059                 NaN        48  \n",
       "550061                 NaN       599  \n",
       "550064                 NaN       371  \n",
       "550065                 NaN       137  \n",
       "\n",
       "[50752 rows x 10 columns]"
      ]
     },
     "execution_count": 13,
     "metadata": {},
     "output_type": "execute_result"
    }
   ],
   "source": [
    "Data_Female = Data.loc[ (Data[\"Gender\"]=='F') & (Data [\"Age\"]== '26-35')]\n",
    "Data_Female"
   ]
  },
  {
   "cell_type": "code",
   "execution_count": 14,
   "id": "bb04f4e2",
   "metadata": {},
   "outputs": [
    {
     "name": "stderr",
     "output_type": "stream",
     "text": [
      "C:\\Users\\anami\\anaconda3\\lib\\site-packages\\seaborn\\_decorators.py:36: FutureWarning: Pass the following variable as a keyword arg: x. From version 0.12, the only valid positional argument will be `data`, and passing other arguments without an explicit keyword will result in an error or misinterpretation.\n",
      "  warnings.warn(\n"
     ]
    },
    {
     "data": {
      "image/png": "[encoded data removed]",
      "text/plain": [
       "<Figure size 432x288 with 2 Axes>"
      ]
     },
     "metadata": {
      "needs_background": "light"
     },
     "output_type": "display_data"
    }
   ],
   "source": [
    "plt.subplot(211)\n",
    "\n",
    "sns.countplot (Data ['Age'])\n",
    "\n",
    "plt.subplot(212)\n",
    "\n",
    "sns.barplot(data=Data,x='Age',y='Purchase',hue='Gender')\n",
    "plt.xticks(rotation=90)\n",
    "\n",
    "plt.subplots_adjust(left=0.1,\n",
    "                   bottom=0.1, \n",
    "                   right=0.9, \n",
    "                   top=0.9, \n",
    "                   wspace=0.4, \n",
    "                   hspace=0.4)\n",
    "\n",
    "plt.show()"
   ]
  },
  {
   "cell_type": "markdown",
   "id": "df462111",
   "metadata": {},
   "source": [
    "ANALYSIS: As per the above analysis, we can see various age groups, but the highest no. of Age Group is between \"26-35\" in which males are more than females."
   ]
  },
  {
   "cell_type": "markdown",
   "id": "4779e63f",
   "metadata": {},
   "source": [
    "##### OCCUPATION"
   ]
  },
  {
   "cell_type": "code",
   "execution_count": 15,
   "id": "f0e6d2ee",
   "metadata": {},
   "outputs": [
    {
     "data": {
      "text/plain": [
       "4     72308\n",
       "0     69638\n",
       "7     59133\n",
       "1     47426\n",
       "17    40043\n",
       "20    33562\n",
       "12    31179\n",
       "14    27309\n",
       "2     26588\n",
       "16    25371\n",
       "6     20355\n",
       "3     17650\n",
       "10    12930\n",
       "5     12177\n",
       "15    12165\n",
       "11    11586\n",
       "19     8461\n",
       "13     7728\n",
       "18     6622\n",
       "9      6291\n",
       "8      1546\n",
       "Name: Occupation, dtype: int64"
      ]
     },
     "execution_count": 15,
     "metadata": {},
     "output_type": "execute_result"
    }
   ],
   "source": [
    "Data ['Occupation'].value_counts()"
   ]
  },
  {
   "cell_type": "code",
   "execution_count": 16,
   "id": "0e84f238",
   "metadata": {},
   "outputs": [
    {
     "name": "stderr",
     "output_type": "stream",
     "text": [
      "C:\\Users\\anami\\anaconda3\\lib\\site-packages\\seaborn\\_decorators.py:36: FutureWarning: Pass the following variable as a keyword arg: x. From version 0.12, the only valid positional argument will be `data`, and passing other arguments without an explicit keyword will result in an error or misinterpretation.\n",
      "  warnings.warn(\n"
     ]
    },
    {
     "data": {
      "image/png": "[encoded data removed]",
      "text/plain": [
       "<Figure size 432x288 with 2 Axes>"
      ]
     },
     "metadata": {
      "needs_background": "light"
     },
     "output_type": "display_data"
    },
    {
     "data": {
      "image/png": "[encoded data removed]",
      "text/plain": [
       "<Figure size 576x432 with 1 Axes>"
      ]
     },
     "metadata": {
      "needs_background": "light"
     },
     "output_type": "display_data"
    }
   ],
   "source": [
    "plt.subplot(211)\n",
    "\n",
    "sns.countplot (Data ['Occupation'])\n",
    "\n",
    "plt.subplot(212)\n",
    "plt.figure (figsize = (8,6))\n",
    "sns.barplot(data=Data,x='Occupation',y='Purchase')\n",
    "plt.xticks(rotation=90)\n",
    "\n",
    "plt.subplots_adjust(left=0.1,\n",
    "                   bottom=0.1, \n",
    "                   right=0.9, \n",
    "                   top=0.9, \n",
    "                   wspace=0.7, \n",
    "                   hspace=0.7)\n",
    "\n",
    "plt.show()"
   ]
  },
  {
   "cell_type": "markdown",
   "id": "c1ca6bc8",
   "metadata": {},
   "source": [
    "ANALYSIS : As per the above analysis, we can see that there are mutiple occupations given in the form of integer. Surely, each no. will be related to an occupation, which we don't know what the occupation is of the people who are the most frequent in our data.\n",
    "In the first graph 4 no. occupation has the highest count and 8 no.Occupation has the least count.\n",
    "But in the second graph, when we see the count in respective to Purchase which is our \"Target Variable\" then there is no drastic difference between highest one and lowest one.  "
   ]
  },
  {
   "cell_type": "markdown",
   "id": "8a0be520",
   "metadata": {},
   "source": [
    "##### CITY CATEGORY"
   ]
  },
  {
   "cell_type": "code",
   "execution_count": 17,
   "id": "6eaf26d9",
   "metadata": {},
   "outputs": [
    {
     "data": {
      "text/plain": [
       "B    231173\n",
       "C    171175\n",
       "A    147720\n",
       "Name: City_Category, dtype: int64"
      ]
     },
     "execution_count": 17,
     "metadata": {},
     "output_type": "execute_result"
    }
   ],
   "source": [
    "Data ['City_Category'].value_counts()"
   ]
  },
  {
   "cell_type": "code",
   "execution_count": 18,
   "id": "588b6867",
   "metadata": {},
   "outputs": [
    {
     "name": "stderr",
     "output_type": "stream",
     "text": [
      "C:\\Users\\anami\\anaconda3\\lib\\site-packages\\seaborn\\_decorators.py:36: FutureWarning: Pass the following variable as a keyword arg: x. From version 0.12, the only valid positional argument will be `data`, and passing other arguments without an explicit keyword will result in an error or misinterpretation.\n",
      "  warnings.warn(\n"
     ]
    },
    {
     "data": {
      "image/png": "[encoded data removed]",
      "text/plain": [
       "<Figure size 432x288 with 2 Axes>"
      ]
     },
     "metadata": {
      "needs_background": "light"
     },
     "output_type": "display_data"
    }
   ],
   "source": [
    "plt.subplot(211)\n",
    "\n",
    "sns.countplot (Data ['City_Category'])\n",
    "\n",
    "plt.subplot(212)\n",
    "\n",
    "sns.barplot(data=Data,x='City_Category',y='Purchase')\n",
    "plt.xticks(rotation=90)\n",
    "\n",
    "plt.subplots_adjust(left=0.1,\n",
    "                   bottom=0.1, \n",
    "                   right=0.9, \n",
    "                   top=0.9, \n",
    "                   wspace=0.7, \n",
    "                   hspace=0.7)\n",
    "\n",
    "plt.show()"
   ]
  },
  {
   "cell_type": "markdown",
   "id": "c467a910",
   "metadata": {},
   "source": [
    "ANALYSIS : As per the above analysis we can see \"City B\" has the maximum count but maximum purchase has made by \"City C\"  "
   ]
  },
  {
   "cell_type": "markdown",
   "id": "e63214d1",
   "metadata": {},
   "source": [
    "##### STAY IN CURRENT CITY YEARS"
   ]
  },
  {
   "cell_type": "code",
   "execution_count": 19,
   "id": "fc483f74",
   "metadata": {},
   "outputs": [
    {
     "data": {
      "text/plain": [
       "1     193821\n",
       "2     101838\n",
       "3      95285\n",
       "4+     84726\n",
       "0      74398\n",
       "Name: Stay_In_Current_City_Years, dtype: int64"
      ]
     },
     "execution_count": 19,
     "metadata": {},
     "output_type": "execute_result"
    }
   ],
   "source": [
    "Data ['Stay_In_Current_City_Years'].value_counts(dropna = False)"
   ]
  },
  {
   "cell_type": "code",
   "execution_count": 20,
   "id": "2c7fe434",
   "metadata": {},
   "outputs": [
    {
     "data": {
      "image/png": "[encoded data removed]",
      "text/plain": [
       "<Figure size 432x288 with 2 Axes>"
      ]
     },
     "metadata": {
      "needs_background": "light"
     },
     "output_type": "display_data"
    }
   ],
   "source": [
    "plt.subplot(211)\n",
    "\n",
    "Data ['Stay_In_Current_City_Years'].value_counts().plot(kind ='bar', color = 'brown')\n",
    "\n",
    "plt.subplot(212)\n",
    "sns.barplot(data=Data,x='Stay_In_Current_City_Years',y='Purchase')\n",
    "plt.xticks(rotation=90)\n",
    "\n",
    "plt.subplots_adjust(left=0.1,\n",
    "                   bottom=0.1, \n",
    "                   right=0.9, \n",
    "                   top=0.9, \n",
    "                   wspace=0.7, \n",
    "                   hspace=0.7)\n",
    "\n",
    "plt.show()"
   ]
  },
  {
   "cell_type": "markdown",
   "id": "3868ea15",
   "metadata": {},
   "source": [
    "ANALYSIS : According to this graph we can analyse that we have maximum count of those people who are staying for just 1 year in a city. The people who are staying for less time are purchasing more product than others may be due to stability they had to purchase the products for thier home or for the survivals."
   ]
  },
  {
   "cell_type": "markdown",
   "id": "9b1f8bd4",
   "metadata": {},
   "source": [
    "##### MARITAL STATUS "
   ]
  },
  {
   "cell_type": "code",
   "execution_count": 21,
   "id": "2bb4602e",
   "metadata": {},
   "outputs": [
    {
     "data": {
      "text/plain": [
       "0    324731\n",
       "1    225337\n",
       "Name: Marital_Status, dtype: int64"
      ]
     },
     "execution_count": 21,
     "metadata": {},
     "output_type": "execute_result"
    }
   ],
   "source": [
    "Data ['Marital_Status'].value_counts(dropna=False)"
   ]
  },
  {
   "cell_type": "code",
   "execution_count": 22,
   "id": "09ee348a",
   "metadata": {},
   "outputs": [
    {
     "name": "stderr",
     "output_type": "stream",
     "text": [
      "C:\\Users\\anami\\anaconda3\\lib\\site-packages\\seaborn\\_decorators.py:36: FutureWarning: Pass the following variable as a keyword arg: x. From version 0.12, the only valid positional argument will be `data`, and passing other arguments without an explicit keyword will result in an error or misinterpretation.\n",
      "  warnings.warn(\n"
     ]
    },
    {
     "data": {
      "image/png": "[encoded data removed]",
      "text/plain": [
       "<Figure size 432x504 with 2 Axes>"
      ]
     },
     "metadata": {
      "needs_background": "light"
     },
     "output_type": "display_data"
    }
   ],
   "source": [
    "plt.figure (figsize = (6,7))\n",
    "plt.subplot(211)\n",
    "\n",
    "sns.countplot (Data ['Marital_Status'])\n",
    "\n",
    "plt.subplot(212)\n",
    "\n",
    "sns.barplot(data=Data,x='Marital_Status',y='Purchase',hue='Gender')\n",
    "plt.xticks(rotation=90)\n",
    "\n",
    "plt.subplots_adjust(left=0.1,\n",
    "                   bottom=0.1, \n",
    "                   right=0.9, \n",
    "                   top=0.9, \n",
    "                   wspace=0.4, \n",
    "                   hspace=0.4)\n",
    "\n",
    "plt.show()"
   ]
  },
  {
   "cell_type": "markdown",
   "id": "3243db79",
   "metadata": {},
   "source": [
    "##### PRODUCT CATEGORIES"
   ]
  },
  {
   "cell_type": "code",
   "execution_count": 23,
   "id": "96691ad1",
   "metadata": {},
   "outputs": [
    {
     "data": {
      "text/plain": [
       "5     150933\n",
       "1     140378\n",
       "8     113925\n",
       "11     24287\n",
       "2      23864\n",
       "6      20466\n",
       "3      20213\n",
       "4      11753\n",
       "16      9828\n",
       "15      6290\n",
       "13      5549\n",
       "10      5125\n",
       "12      3947\n",
       "7       3721\n",
       "18      3125\n",
       "20      2550\n",
       "19      1603\n",
       "14      1523\n",
       "17       578\n",
       "9        410\n",
       "Name: Product_Category_1, dtype: int64"
      ]
     },
     "execution_count": 23,
     "metadata": {},
     "output_type": "execute_result"
    }
   ],
   "source": [
    "Data ['Product_Category_1'].value_counts(dropna = False)"
   ]
  },
  {
   "cell_type": "code",
   "execution_count": 24,
   "id": "ad5a79a4",
   "metadata": {},
   "outputs": [
    {
     "data": {
      "text/plain": [
       "<AxesSubplot:>"
      ]
     },
     "execution_count": 24,
     "metadata": {},
     "output_type": "execute_result"
    },
    {
     "data": {
      "image/png": "[encoded data removed]",
      "text/plain": [
       "<Figure size 432x288 with 1 Axes>"
      ]
     },
     "metadata": {
      "needs_background": "light"
     },
     "output_type": "display_data"
    }
   ],
   "source": [
    "Data ['Product_Category_1'].value_counts().plot(kind ='bar')"
   ]
  },
  {
   "cell_type": "markdown",
   "id": "bb55e0b0",
   "metadata": {},
   "source": [
    "Comment : As per the above analysis category 5 of 'Product_Catergory_1' has the maximum count which is 150933 and category 9 has the minimum count which is 410. As of now we cannot assume that which kind of product falls under this category."
   ]
  },
  {
   "cell_type": "code",
   "execution_count": 25,
   "id": "16c695bf",
   "metadata": {},
   "outputs": [
    {
     "data": {
      "text/plain": [
       "NaN     173638\n",
       "8.0      64088\n",
       "14.0     55108\n",
       "2.0      49217\n",
       "16.0     43255\n",
       "15.0     37855\n",
       "5.0      26235\n",
       "4.0      25677\n",
       "6.0      16466\n",
       "11.0     14134\n",
       "17.0     13320\n",
       "13.0     10531\n",
       "9.0       5693\n",
       "12.0      5528\n",
       "10.0      3043\n",
       "3.0       2884\n",
       "18.0      2770\n",
       "7.0        626\n",
       "Name: Product_Category_2, dtype: int64"
      ]
     },
     "execution_count": 25,
     "metadata": {},
     "output_type": "execute_result"
    }
   ],
   "source": [
    "Data ['Product_Category_2'].value_counts(dropna = False)"
   ]
  },
  {
   "cell_type": "code",
   "execution_count": 26,
   "id": "66324cc0",
   "metadata": {},
   "outputs": [
    {
     "data": {
      "text/plain": [
       "<AxesSubplot:>"
      ]
     },
     "execution_count": 26,
     "metadata": {},
     "output_type": "execute_result"
    },
    {
     "data": {
      "image/png": "[encoded data removed]",
      "text/plain": [
       "<Figure size 432x288 with 1 Axes>"
      ]
     },
     "metadata": {
      "needs_background": "light"
     },
     "output_type": "display_data"
    }
   ],
   "source": [
    "Data ['Product_Category_2'].value_counts(dropna = False).plot (kind ='bar')"
   ]
  },
  {
   "cell_type": "code",
   "execution_count": 27,
   "id": "95d748ae",
   "metadata": {},
   "outputs": [
    {
     "data": {
      "text/plain": [
       "NaN     383247\n",
       "16.0     32636\n",
       "15.0     28013\n",
       "14.0     18428\n",
       "17.0     16702\n",
       "5.0      16658\n",
       "8.0      12562\n",
       "9.0      11579\n",
       "12.0      9246\n",
       "13.0      5459\n",
       "6.0       4890\n",
       "18.0      4629\n",
       "4.0       1875\n",
       "11.0      1805\n",
       "10.0      1726\n",
       "3.0        613\n",
       "Name: Product_Category_3, dtype: int64"
      ]
     },
     "execution_count": 27,
     "metadata": {},
     "output_type": "execute_result"
    }
   ],
   "source": [
    "Data ['Product_Category_3'].value_counts(dropna = False)"
   ]
  },
  {
   "cell_type": "code",
   "execution_count": 28,
   "id": "95e341bd",
   "metadata": {},
   "outputs": [
    {
     "data": {
      "text/plain": [
       "<AxesSubplot:>"
      ]
     },
     "execution_count": 28,
     "metadata": {},
     "output_type": "execute_result"
    },
    {
     "data": {
      "image/png": "[encoded data removed]",
      "text/plain": [
       "<Figure size 432x288 with 1 Axes>"
      ]
     },
     "metadata": {
      "needs_background": "light"
     },
     "output_type": "display_data"
    }
   ],
   "source": [
    "Data ['Product_Category_3'].value_counts(dropna = False).plot(kind = 'bar')"
   ]
  },
  {
   "cell_type": "markdown",
   "id": "a9aa7854",
   "metadata": {},
   "source": [
    "ANALYSIS : As per the above 2 variant's analysis, we can see that the maximum count of product categories are unknown, filled with NaN, means these are missing values. For the further analysis if we don't want to drop the variables then we can fill these missing product categories with some natural number. A no. that stands out from the whole data."
   ]
  },
  {
   "cell_type": "markdown",
   "id": "19d18b9b",
   "metadata": {},
   "source": [
    "##### PURCHASE (TARGET VARIABLE)"
   ]
  },
  {
   "cell_type": "code",
   "execution_count": 29,
   "id": "afae02a7",
   "metadata": {
    "scrolled": false
   },
   "outputs": [
    {
     "data": {
      "image/png": "[encoded data removed]",
      "text/plain": [
       "<Figure size 864x216 with 1 Axes>"
      ]
     },
     "metadata": {
      "needs_background": "light"
     },
     "output_type": "display_data"
    }
   ],
   "source": [
    "Data['Purchase'].hist(bins=40,figsize=(12,3));\n",
    "# This plot is represting that maximum purchase is between 5000-10000"
   ]
  },
  {
   "cell_type": "markdown",
   "id": "8e76c4cb",
   "metadata": {},
   "source": [
    "## BIVARIANT ANALYSIS"
   ]
  },
  {
   "cell_type": "code",
   "execution_count": 30,
   "id": "d6250f64",
   "metadata": {},
   "outputs": [
    {
     "data": {
      "image/png": "[encoded data removed]",
      "text/plain": [
       "<Figure size 1008x432 with 1 Axes>"
      ]
     },
     "metadata": {
      "needs_background": "light"
     },
     "output_type": "display_data"
    }
   ],
   "source": [
    "plt.figure(figsize=[14,6])\n",
    "\n",
    "sns.barplot(data=Data,x='Product_Category_1',y='Purchase',hue='Marital_Status')\n",
    "\n",
    "plt.xticks(rotation=90)\n",
    "\n",
    "plt.show()"
   ]
  },
  {
   "cell_type": "code",
   "execution_count": 31,
   "id": "7939c776",
   "metadata": {},
   "outputs": [
    {
     "data": {
      "text/html": [
       "<div>\n",
       "<style scoped>\n",
       "    .dataframe tbody tr th:only-of-type {\n",
       "        vertical-align: middle;\n",
       "    }\n",
       "\n",
       "    .dataframe tbody tr th {\n",
       "        vertical-align: top;\n",
       "    }\n",
       "\n",
       "    .dataframe thead th {\n",
       "        text-align: right;\n",
       "    }\n",
       "</style>\n",
       "<table border=\"1\" class=\"dataframe\">\n",
       "  <thead>\n",
       "    <tr style=\"text-align: right;\">\n",
       "      <th></th>\n",
       "      <th>Gender</th>\n",
       "      <th>Age</th>\n",
       "      <th>Occupation</th>\n",
       "      <th>City_Category</th>\n",
       "      <th>Stay_In_Current_City_Years</th>\n",
       "      <th>Marital_Status</th>\n",
       "      <th>Product_Category_1</th>\n",
       "      <th>Product_Category_2</th>\n",
       "      <th>Product_Category_3</th>\n",
       "      <th>Purchase</th>\n",
       "    </tr>\n",
       "  </thead>\n",
       "  <tbody>\n",
       "    <tr>\n",
       "      <th>5</th>\n",
       "      <td>M</td>\n",
       "      <td>26-35</td>\n",
       "      <td>15</td>\n",
       "      <td>A</td>\n",
       "      <td>3</td>\n",
       "      <td>0</td>\n",
       "      <td>1</td>\n",
       "      <td>2.0</td>\n",
       "      <td>NaN</td>\n",
       "      <td>15227</td>\n",
       "    </tr>\n",
       "    <tr>\n",
       "      <th>56</th>\n",
       "      <td>M</td>\n",
       "      <td>26-35</td>\n",
       "      <td>7</td>\n",
       "      <td>A</td>\n",
       "      <td>1</td>\n",
       "      <td>0</td>\n",
       "      <td>1</td>\n",
       "      <td>8.0</td>\n",
       "      <td>NaN</td>\n",
       "      <td>19653</td>\n",
       "    </tr>\n",
       "    <tr>\n",
       "      <th>57</th>\n",
       "      <td>M</td>\n",
       "      <td>26-35</td>\n",
       "      <td>7</td>\n",
       "      <td>A</td>\n",
       "      <td>1</td>\n",
       "      <td>0</td>\n",
       "      <td>8</td>\n",
       "      <td>16.0</td>\n",
       "      <td>NaN</td>\n",
       "      <td>5958</td>\n",
       "    </tr>\n",
       "    <tr>\n",
       "      <th>58</th>\n",
       "      <td>M</td>\n",
       "      <td>26-35</td>\n",
       "      <td>7</td>\n",
       "      <td>A</td>\n",
       "      <td>1</td>\n",
       "      <td>0</td>\n",
       "      <td>1</td>\n",
       "      <td>16.0</td>\n",
       "      <td>NaN</td>\n",
       "      <td>11415</td>\n",
       "    </tr>\n",
       "    <tr>\n",
       "      <th>59</th>\n",
       "      <td>M</td>\n",
       "      <td>26-35</td>\n",
       "      <td>7</td>\n",
       "      <td>A</td>\n",
       "      <td>1</td>\n",
       "      <td>0</td>\n",
       "      <td>5</td>\n",
       "      <td>8.0</td>\n",
       "      <td>NaN</td>\n",
       "      <td>5380</td>\n",
       "    </tr>\n",
       "    <tr>\n",
       "      <th>...</th>\n",
       "      <td>...</td>\n",
       "      <td>...</td>\n",
       "      <td>...</td>\n",
       "      <td>...</td>\n",
       "      <td>...</td>\n",
       "      <td>...</td>\n",
       "      <td>...</td>\n",
       "      <td>...</td>\n",
       "      <td>...</td>\n",
       "      <td>...</td>\n",
       "    </tr>\n",
       "    <tr>\n",
       "      <th>549964</th>\n",
       "      <td>M</td>\n",
       "      <td>26-35</td>\n",
       "      <td>7</td>\n",
       "      <td>A</td>\n",
       "      <td>0</td>\n",
       "      <td>0</td>\n",
       "      <td>19</td>\n",
       "      <td>NaN</td>\n",
       "      <td>NaN</td>\n",
       "      <td>38</td>\n",
       "    </tr>\n",
       "    <tr>\n",
       "      <th>549967</th>\n",
       "      <td>M</td>\n",
       "      <td>26-35</td>\n",
       "      <td>0</td>\n",
       "      <td>A</td>\n",
       "      <td>4+</td>\n",
       "      <td>0</td>\n",
       "      <td>19</td>\n",
       "      <td>NaN</td>\n",
       "      <td>NaN</td>\n",
       "      <td>61</td>\n",
       "    </tr>\n",
       "    <tr>\n",
       "      <th>550026</th>\n",
       "      <td>M</td>\n",
       "      <td>26-35</td>\n",
       "      <td>14</td>\n",
       "      <td>A</td>\n",
       "      <td>1</td>\n",
       "      <td>0</td>\n",
       "      <td>19</td>\n",
       "      <td>NaN</td>\n",
       "      <td>NaN</td>\n",
       "      <td>62</td>\n",
       "    </tr>\n",
       "    <tr>\n",
       "      <th>550055</th>\n",
       "      <td>M</td>\n",
       "      <td>26-35</td>\n",
       "      <td>0</td>\n",
       "      <td>A</td>\n",
       "      <td>4+</td>\n",
       "      <td>0</td>\n",
       "      <td>20</td>\n",
       "      <td>NaN</td>\n",
       "      <td>NaN</td>\n",
       "      <td>238</td>\n",
       "    </tr>\n",
       "    <tr>\n",
       "      <th>550062</th>\n",
       "      <td>M</td>\n",
       "      <td>46-50</td>\n",
       "      <td>7</td>\n",
       "      <td>A</td>\n",
       "      <td>3</td>\n",
       "      <td>0</td>\n",
       "      <td>20</td>\n",
       "      <td>NaN</td>\n",
       "      <td>NaN</td>\n",
       "      <td>473</td>\n",
       "    </tr>\n",
       "  </tbody>\n",
       "</table>\n",
       "<p>69346 rows × 10 columns</p>\n",
       "</div>"
      ],
      "text/plain": [
       "       Gender    Age  Occupation City_Category Stay_In_Current_City_Years  \\\n",
       "5           M  26-35          15             A                          3   \n",
       "56          M  26-35           7             A                          1   \n",
       "57          M  26-35           7             A                          1   \n",
       "58          M  26-35           7             A                          1   \n",
       "59          M  26-35           7             A                          1   \n",
       "...       ...    ...         ...           ...                        ...   \n",
       "549964      M  26-35           7             A                          0   \n",
       "549967      M  26-35           0             A                         4+   \n",
       "550026      M  26-35          14             A                          1   \n",
       "550055      M  26-35           0             A                         4+   \n",
       "550062      M  46-50           7             A                          3   \n",
       "\n",
       "        Marital_Status  Product_Category_1  Product_Category_2  \\\n",
       "5                    0                   1                 2.0   \n",
       "56                   0                   1                 8.0   \n",
       "57                   0                   8                16.0   \n",
       "58                   0                   1                16.0   \n",
       "59                   0                   5                 8.0   \n",
       "...                ...                 ...                 ...   \n",
       "549964               0                  19                 NaN   \n",
       "549967               0                  19                 NaN   \n",
       "550026               0                  19                 NaN   \n",
       "550055               0                  20                 NaN   \n",
       "550062               0                  20                 NaN   \n",
       "\n",
       "        Product_Category_3  Purchase  \n",
       "5                      NaN     15227  \n",
       "56                     NaN     19653  \n",
       "57                     NaN      5958  \n",
       "58                     NaN     11415  \n",
       "59                     NaN      5380  \n",
       "...                    ...       ...  \n",
       "549964                 NaN        38  \n",
       "549967                 NaN        61  \n",
       "550026                 NaN        62  \n",
       "550055                 NaN       238  \n",
       "550062                 NaN       473  \n",
       "\n",
       "[69346 rows x 10 columns]"
      ]
     },
     "execution_count": 31,
     "metadata": {},
     "output_type": "execute_result"
    }
   ],
   "source": [
    "Data [(Data ['Gender']=='M') & (Data ['Marital_Status']==0)& (Data ['City_Category']== 'A')]"
   ]
  },
  {
   "cell_type": "code",
   "execution_count": 32,
   "id": "0a39f71a",
   "metadata": {},
   "outputs": [
    {
     "data": {
      "text/plain": [
       "Text(0.5, 1.0, 'Highest Purchasing Age Group')"
      ]
     },
     "execution_count": 32,
     "metadata": {},
     "output_type": "execute_result"
    },
    {
     "data": {
      "image/png": "[encoded data removed]",
      "text/plain": [
       "<Figure size 360x360 with 1 Axes>"
      ]
     },
     "metadata": {},
     "output_type": "display_data"
    }
   ],
   "source": [
    "sns.set(style= \"darkgrid\")\n",
    "sns.catplot(x=\"Age\", kind=\"count\",data=Data);\n",
    "plt.title('Highest Purchasing Age Group')"
   ]
  },
  {
   "cell_type": "code",
   "execution_count": 33,
   "id": "1e80544f",
   "metadata": {},
   "outputs": [
    {
     "data": {
      "text/plain": [
       "Text(0.5, 1.0, 'Ratio of Purchase Made By Gender')"
      ]
     },
     "execution_count": 33,
     "metadata": {},
     "output_type": "execute_result"
    },
    {
     "data": {
      "image/png": "[encoded data removed]",
      "text/plain": [
       "<Figure size 360x360 with 1 Axes>"
      ]
     },
     "metadata": {},
     "output_type": "display_data"
    }
   ],
   "source": [
    "sns.set(style= \"darkgrid\")\n",
    "sns.catplot(x=\"Gender\", kind=\"count\",data=Data);\n",
    "plt.title('Ratio of Purchase Made By Gender')"
   ]
  },
  {
   "cell_type": "code",
   "execution_count": 34,
   "id": "d99439e8",
   "metadata": {},
   "outputs": [
    {
     "data": {
      "text/plain": [
       "Text(0.5, 1.0, 'Total Purchase Made City Wise')"
      ]
     },
     "execution_count": 34,
     "metadata": {},
     "output_type": "execute_result"
    },
    {
     "data": {
      "image/png": "[encoded data removed]",
      "text/plain": [
       "<Figure size 360x360 with 1 Axes>"
      ]
     },
     "metadata": {},
     "output_type": "display_data"
    }
   ],
   "source": [
    "sns.set(style= \"darkgrid\")\n",
    "sns.catplot(x=\"City_Category\", kind=\"count\",data=Data);\n",
    "plt.title('Total Purchase Made City Wise')"
   ]
  },
  {
   "cell_type": "markdown",
   "id": "0f8e1386",
   "metadata": {},
   "source": [
    "### MISSING VALUE TREATMENT"
   ]
  },
  {
   "cell_type": "code",
   "execution_count": 35,
   "id": "d0f4d315",
   "metadata": {},
   "outputs": [],
   "source": [
    "Data['Product_Category_2'] =Data['Product_Category_2'].fillna(0).astype('int64')\n",
    "Data['Product_Category_3'] =Data['Product_Category_3'].fillna(99).astype('int64')"
   ]
  },
  {
   "cell_type": "code",
   "execution_count": 36,
   "id": "262650f6",
   "metadata": {},
   "outputs": [],
   "source": [
    "Data1 = Data.copy()"
   ]
  },
  {
   "cell_type": "markdown",
   "id": "0db738c2",
   "metadata": {},
   "source": [
    "#### CONVERSION FROM CATEGORICAL TO NUMERICAL "
   ]
  },
  {
   "cell_type": "code",
   "execution_count": 37,
   "id": "d6c08fe8",
   "metadata": {},
   "outputs": [],
   "source": [
    "from sklearn import preprocessing"
   ]
  },
  {
   "cell_type": "code",
   "execution_count": 38,
   "id": "787b3e46",
   "metadata": {},
   "outputs": [],
   "source": [
    "LE = preprocessing.LabelEncoder()"
   ]
  },
  {
   "cell_type": "code",
   "execution_count": 39,
   "id": "d7087855",
   "metadata": {},
   "outputs": [],
   "source": [
    "Data1['Gender']= LE.fit_transform(Data1['Gender'])\n",
    "\n",
    "Data1['Age']= LE.fit_transform (Data1['Age'])\n",
    "\n",
    "Data1['City_Category']= LE.fit_transform(Data1['City_Category'])\n",
    "\n",
    "Data1['Stay_In_Current_City_Years']= LE.fit_transform(Data1['Stay_In_Current_City_Years'])"
   ]
  },
  {
   "cell_type": "code",
   "execution_count": 40,
   "id": "6c5a98cb",
   "metadata": {},
   "outputs": [
    {
     "data": {
      "text/plain": [
       "Gender                        int32\n",
       "Age                           int32\n",
       "Occupation                    int64\n",
       "City_Category                 int32\n",
       "Stay_In_Current_City_Years    int32\n",
       "Marital_Status                int64\n",
       "Product_Category_1            int64\n",
       "Product_Category_2            int64\n",
       "Product_Category_3            int64\n",
       "Purchase                      int64\n",
       "dtype: object"
      ]
     },
     "execution_count": 40,
     "metadata": {},
     "output_type": "execute_result"
    }
   ],
   "source": [
    "Data1.dtypes"
   ]
  },
  {
   "cell_type": "code",
   "execution_count": 41,
   "id": "cb1dce15",
   "metadata": {},
   "outputs": [
    {
     "data": {
      "text/plain": [
       "<AxesSubplot:>"
      ]
     },
     "execution_count": 41,
     "metadata": {},
     "output_type": "execute_result"
    },
    {
     "data": {
      "image/png": "[encoded data removed]",
      "text/plain": [
       "<Figure size 432x288 with 2 Axes>"
      ]
     },
     "metadata": {},
     "output_type": "display_data"
    }
   ],
   "source": [
    "# Visuals of stats of whole dataset\n",
    "sns.heatmap(Data1.describe(), annot = True, fmt = '0.0f')"
   ]
  },
  {
   "cell_type": "markdown",
   "id": "7ae9ec99",
   "metadata": {},
   "source": [
    "### DATA MODELING"
   ]
  },
  {
   "cell_type": "markdown",
   "id": "97b2b867",
   "metadata": {},
   "source": [
    "#### ALGORITHM - LINEAR REGRESSION"
   ]
  },
  {
   "cell_type": "code",
   "execution_count": 42,
   "id": "71326844",
   "metadata": {},
   "outputs": [],
   "source": [
    "#Splitting the DATA\n",
    "y=Data1[\"Purchase\"]\n",
    "X=Data1.drop(columns=[\"Purchase\"])"
   ]
  },
  {
   "cell_type": "code",
   "execution_count": 43,
   "id": "e8277321",
   "metadata": {},
   "outputs": [],
   "source": [
    "X_train , X_test, y_train , y_test = train_test_split(X,y, test_size=0.3, random_state=45)"
   ]
  },
  {
   "cell_type": "code",
   "execution_count": 44,
   "id": "47cefeb1",
   "metadata": {},
   "outputs": [],
   "source": [
    "LR = LinearRegression()"
   ]
  },
  {
   "cell_type": "code",
   "execution_count": 45,
   "id": "632cc8da",
   "metadata": {},
   "outputs": [
    {
     "data": {
      "text/plain": [
       "LinearRegression()"
      ]
     },
     "execution_count": 45,
     "metadata": {},
     "output_type": "execute_result"
    }
   ],
   "source": [
    "LR.fit(X_train, y_train)"
   ]
  },
  {
   "cell_type": "code",
   "execution_count": 46,
   "id": "ac8427ea",
   "metadata": {},
   "outputs": [
    {
     "name": "stdout",
     "output_type": "stream",
     "text": [
      "LR Train Score : 0.15590915910673198\n",
      "LR Test Score  : 0.15833355827912377\n"
     ]
    }
   ],
   "source": [
    "print(\"LR Train Score :\", LR.score(X_train, y_train))\n",
    "print(\"LR Test Score  :\", LR.score(X_test, y_test))"
   ]
  },
  {
   "cell_type": "code",
   "execution_count": 47,
   "id": "28868ffb",
   "metadata": {},
   "outputs": [
    {
     "data": {
      "text/plain": [
       "array([ 7765.15766265,  7780.12434769, 11279.40803994, ...,\n",
       "       11773.13850122,  7972.37461452, 11812.33526617])"
      ]
     },
     "execution_count": 47,
     "metadata": {},
     "output_type": "execute_result"
    }
   ],
   "source": [
    "y_pred_train = LR.predict(X_train)\n",
    "y_pred_train"
   ]
  },
  {
   "cell_type": "code",
   "execution_count": 48,
   "id": "10ef5129",
   "metadata": {},
   "outputs": [
    {
     "data": {
      "text/plain": [
       "array([ 6958.145768  ,  9763.22653901,  8393.71975663, ...,\n",
       "       10482.63346727, 11630.62774526,  9200.99828482])"
      ]
     },
     "execution_count": 48,
     "metadata": {},
     "output_type": "execute_result"
    }
   ],
   "source": [
    "y_pred_test = LR.predict(X_test)\n",
    "y_pred_test"
   ]
  },
  {
   "cell_type": "code",
   "execution_count": 49,
   "id": "8ce09557",
   "metadata": {},
   "outputs": [],
   "source": [
    "# FINDING RMSE AND MSE THROUGH NUMPY\n",
    "\n",
    "# print(\"Train MSE :\", np.mean((y_train-y_pred_train)**2))\n",
    "# print(\"Test MSE :\", np.mean((y_test-y_pred_test)**2))\n",
    "\n",
    "# print(\"Train RMSE :\", np.sqrt(np.mean((y_train-y_pred_train)**2)))\n",
    "# print(\"Test RMSE :\", np.sqrt(np.mean((y_test-y_pred_test)**2)))"
   ]
  },
  {
   "cell_type": "code",
   "execution_count": 50,
   "id": "9efa01f7",
   "metadata": {},
   "outputs": [],
   "source": [
    "# PACKAGEs TO GET RMSE AND MSE \n",
    "\n",
    "from sklearn.metrics import mean_absolute_error, mean_squared_error, r2_score\n",
    "from math import sqrt"
   ]
  },
  {
   "cell_type": "code",
   "execution_count": 51,
   "id": "26ae7dcf",
   "metadata": {},
   "outputs": [
    {
     "name": "stdout",
     "output_type": "stream",
     "text": [
      "21294021.2\n",
      "4614.54\n",
      "0.16\n",
      "3518.82\n"
     ]
    }
   ],
   "source": [
    "LR_MSE = round (mean_squared_error(y_test, y_pred_test),2)\n",
    "LR_RMSE = round (sqrt(mean_squared_error(y_test, y_pred_test)),2)\n",
    "LR_R2_score = round (r2_score (y_test, y_pred_test),2)\n",
    "LR_MAE = round (mean_absolute_error (y_test, y_pred_test),2)\n",
    "\n",
    "print (LR_MSE)\n",
    "print (LR_RMSE)\n",
    "print (LR_R2_score)\n",
    "print (LR_MAE)"
   ]
  },
  {
   "cell_type": "markdown",
   "id": "d60a1962",
   "metadata": {},
   "source": [
    "#### ALGORITHM - DECISION TREE [REGRESSOR]"
   ]
  },
  {
   "cell_type": "code",
   "execution_count": 52,
   "id": "4b6b40ff",
   "metadata": {},
   "outputs": [],
   "source": [
    "X_train, X_test, y_train, y_test=train_test_split(X,y, test_size=0.2, random_state=0)"
   ]
  },
  {
   "cell_type": "code",
   "execution_count": 53,
   "id": "c941dc8d",
   "metadata": {},
   "outputs": [],
   "source": [
    "from sklearn.tree import DecisionTreeRegressor"
   ]
  },
  {
   "cell_type": "code",
   "execution_count": 54,
   "id": "d8abfcfa",
   "metadata": {},
   "outputs": [
    {
     "name": "stdout",
     "output_type": "stream",
     "text": [
      "Train Accuracy : 0.8026586623261507\n",
      "Test Accuracy  : 0.561583746459331\n"
     ]
    }
   ],
   "source": [
    "DtR = DecisionTreeRegressor(random_state=89)\n",
    "\n",
    "DtR.fit(X_train, y_train)\n",
    "\n",
    "print(\"Train Accuracy :\", DtR.score(X_train,y_train))\n",
    "print(\"Test Accuracy  :\", DtR.score(X_test,y_test))"
   ]
  },
  {
   "cell_type": "code",
   "execution_count": 55,
   "id": "508ff7bb",
   "metadata": {},
   "outputs": [],
   "source": [
    "#help(DtR)\n",
    "\n",
    "#DecisionTreeRegressor(*, criterion='mse', \n",
    "#                      splitter='best', max_depth=None, \n",
    "#                      min_samples_split=2, min_samples_leaf=1, \n",
    "#                      min_weight_fraction_leaf=0.0, max_features=None, \n",
    "#                      random_state=None, max_leaf_nodes=None, \n",
    "#                      min_impurity_decrease=0.0, min_impurity_split=None, \n",
    "#                      ccp_alpha=0.0)"
   ]
  },
  {
   "cell_type": "code",
   "execution_count": 56,
   "id": "fa853239",
   "metadata": {},
   "outputs": [
    {
     "name": "stdout",
     "output_type": "stream",
     "text": [
      "Train Accuracy: 0.5790609087415428\n",
      "Test Accuracy: 0.5801263155414075\n"
     ]
    }
   ],
   "source": [
    "DtR = DecisionTreeRegressor(max_depth=5,random_state=89)\n",
    "\n",
    "DtR.fit(X_train, y_train)\n",
    "\n",
    "print(\"Train Accuracy:\", DtR.score(X_train,y_train))\n",
    "print(\"Test Accuracy:\", DtR.score(X_test,y_test))"
   ]
  },
  {
   "cell_type": "code",
   "execution_count": 57,
   "id": "d0bd2f49",
   "metadata": {},
   "outputs": [
    {
     "data": {
      "image/png": "[encoded data removed]",
      "text/plain": [
       "<Figure size 1500x1500 with 1 Axes>"
      ]
     },
     "metadata": {},
     "output_type": "display_data"
    }
   ],
   "source": [
    "fn = X_train.columns\n",
    "cn = [\"yes\",\"no\"]\n",
    "\n",
    "# Setting dpi = 300 to make image clearer than default\n",
    "fig, axes = plt.subplots(nrows = 1,ncols = 1,figsize = (3,3), dpi=500)\n",
    "\n",
    "plot_tree(DtR,\n",
    "           feature_names = fn, \n",
    "           class_names=cn,\n",
    "           filled = True);"
   ]
  },
  {
   "cell_type": "code",
   "execution_count": 58,
   "id": "81aff4ca",
   "metadata": {},
   "outputs": [
    {
     "name": "stdout",
     "output_type": "stream",
     "text": [
      "Train Accuracy: 0.5790609087415428\n",
      "Test Accuracy: 0.5801263155414075\n"
     ]
    }
   ],
   "source": [
    "DtR1=DecisionTreeRegressor(max_depth=5,random_state=89, criterion='mse')\n",
    "\n",
    "DtR1.fit(X_train, y_train)\n",
    "\n",
    "print(\"Train Accuracy:\", DtR1.score(X_train,y_train))\n",
    "print(\"Test Accuracy:\", DtR1.score(X_test,y_test))"
   ]
  },
  {
   "cell_type": "code",
   "execution_count": 59,
   "id": "fd904737",
   "metadata": {},
   "outputs": [
    {
     "name": "stdout",
     "output_type": "stream",
     "text": [
      "Train Accuracy: 0.5790609087415428\n",
      "Test Accuracy: 0.5801263155414075\n"
     ]
    }
   ],
   "source": [
    "DtR2 = DecisionTreeRegressor(max_depth=5,random_state=89, criterion='mse',min_samples_split=2, min_samples_leaf=1,)\n",
    "\n",
    "DtR2.fit(X_train, y_train)\n",
    "\n",
    "print(\"Train Accuracy:\", DtR2.score(X_train,y_train))\n",
    "print(\"Test Accuracy:\", DtR2.score(X_test,y_test))"
   ]
  },
  {
   "cell_type": "code",
   "execution_count": 60,
   "id": "cbe3cabb",
   "metadata": {},
   "outputs": [
    {
     "data": {
      "text/plain": [
       "array([14131.70045467,  3642.59561082, 15927.31898377, ...,\n",
       "       12943.65762521, 12943.65762521, 15646.0305133 ])"
      ]
     },
     "execution_count": 60,
     "metadata": {},
     "output_type": "execute_result"
    }
   ],
   "source": [
    "y_Predict= DtR.predict(X_test)\n",
    "y_Predict"
   ]
  },
  {
   "cell_type": "code",
   "execution_count": 61,
   "id": "791d6302",
   "metadata": {},
   "outputs": [
    {
     "data": {
      "text/plain": [
       "2409.06675956043"
      ]
     },
     "execution_count": 61,
     "metadata": {},
     "output_type": "execute_result"
    }
   ],
   "source": [
    "from sklearn.metrics import mean_absolute_error,mean_squared_error, r2_score\n",
    "mean_absolute_error(y_test, y_Predict)"
   ]
  },
  {
   "cell_type": "code",
   "execution_count": 62,
   "id": "75df22d0",
   "metadata": {},
   "outputs": [
    {
     "data": {
      "text/plain": [
       "10602672.460348902"
      ]
     },
     "execution_count": 62,
     "metadata": {},
     "output_type": "execute_result"
    }
   ],
   "source": [
    "mean_squared_error(y_test, y_Predict)"
   ]
  },
  {
   "cell_type": "code",
   "execution_count": 63,
   "id": "a79589f3",
   "metadata": {},
   "outputs": [
    {
     "data": {
      "text/plain": [
       "0.5801263155414075"
      ]
     },
     "execution_count": 63,
     "metadata": {},
     "output_type": "execute_result"
    }
   ],
   "source": [
    "r2_score(y_test, y_Predict)"
   ]
  },
  {
   "cell_type": "code",
   "execution_count": 64,
   "id": "f5458df1",
   "metadata": {},
   "outputs": [
    {
     "name": "stdout",
     "output_type": "stream",
     "text": [
      "RMSE of the Model is  3256.174513190118\n",
      "MSE of The Model is 10602672.460348902\n"
     ]
    }
   ],
   "source": [
    "print(\"RMSE of the Model is \",sqrt(mean_squared_error(y_test, y_Predict)))\n",
    "print ('MSE of The Model is',mean_squared_error(y_test, y_Predict))"
   ]
  },
  {
   "cell_type": "code",
   "execution_count": 65,
   "id": "550dd5f2",
   "metadata": {},
   "outputs": [
    {
     "name": "stdout",
     "output_type": "stream",
     "text": [
      "3256.17\n",
      "10602672.46\n",
      "2409.07\n",
      "0.58\n"
     ]
    }
   ],
   "source": [
    "DT_RMSE = round (sqrt(mean_squared_error(y_test, y_Predict)),2)\n",
    "DT_MSE = round (mean_squared_error(y_test, y_Predict),2)\n",
    "DT_MAE = round (mean_absolute_error(y_test, y_Predict),2)\n",
    "DT_R2_score = round (r2_score(y_test, y_Predict),2)\n",
    "\n",
    "print (DT_RMSE)\n",
    "print (DT_MSE)\n",
    "print (DT_MAE)\n",
    "print (DT_R2_score)"
   ]
  },
  {
   "cell_type": "markdown",
   "id": "ab46869a",
   "metadata": {},
   "source": [
    "ANALYSIS : We can see here we are using our best parameters here but still we are not getting good accuracy. "
   ]
  },
  {
   "cell_type": "markdown",
   "id": "dd827410",
   "metadata": {},
   "source": [
    "### ALGORITHM - RANDOM FOREST"
   ]
  },
  {
   "cell_type": "code",
   "execution_count": 66,
   "id": "fca46ec3",
   "metadata": {},
   "outputs": [],
   "source": [
    "from sklearn.ensemble import RandomForestRegressor"
   ]
  },
  {
   "cell_type": "code",
   "execution_count": 67,
   "id": "63408280",
   "metadata": {},
   "outputs": [],
   "source": [
    "Rf=RandomForestRegressor(max_depth=2, random_state=0)"
   ]
  },
  {
   "cell_type": "code",
   "execution_count": 68,
   "id": "2de6e58d",
   "metadata": {},
   "outputs": [],
   "source": [
    "#help(Rf)"
   ]
  },
  {
   "cell_type": "code",
   "execution_count": 69,
   "id": "f17a0394",
   "metadata": {},
   "outputs": [
    {
     "name": "stdout",
     "output_type": "stream",
     "text": [
      "Train Accuracy: 0.31127654769035895\n",
      "Test Accuracy: 0.31003297877380664\n"
     ]
    }
   ],
   "source": [
    "Rf.fit(X_train, y_train)\n",
    "\n",
    "print(\"Train Accuracy:\", Rf.score(X_train, y_train))\n",
    "print(\"Test Accuracy:\", Rf.score(X_test,y_test))"
   ]
  },
  {
   "cell_type": "code",
   "execution_count": 70,
   "id": "8a8cc30e",
   "metadata": {},
   "outputs": [],
   "source": [
    "Rf1 = RandomForestRegressor(random_state=0)"
   ]
  },
  {
   "cell_type": "code",
   "execution_count": 71,
   "id": "40c2bac2",
   "metadata": {},
   "outputs": [
    {
     "name": "stdout",
     "output_type": "stream",
     "text": [
      "Train Accuracy: 0.7915186133460376\n",
      "Test Accuracy: 0.6320648166600967\n"
     ]
    }
   ],
   "source": [
    "Rf1.fit(X_train, y_train)\n",
    "\n",
    "print(\"Train Accuracy:\", Rf1.score(X_train, y_train))\n",
    "print(\"Test Accuracy:\", Rf1.score(X_test,y_test))"
   ]
  },
  {
   "cell_type": "code",
   "execution_count": 72,
   "id": "8b60a7e3",
   "metadata": {},
   "outputs": [
    {
     "data": {
      "text/plain": [
       "array([15285.32033333,  1212.68471429, 16230.93178571, ...,\n",
       "       16123.7149026 , 14942.74111575, 14448.025     ])"
      ]
     },
     "execution_count": 72,
     "metadata": {},
     "output_type": "execute_result"
    }
   ],
   "source": [
    "rf_y_pred = Rf1.predict(X_test)\n",
    "rf_y_pred"
   ]
  },
  {
   "cell_type": "code",
   "execution_count": 73,
   "id": "68f491ca",
   "metadata": {},
   "outputs": [
    {
     "name": "stdout",
     "output_type": "stream",
     "text": [
      "RMSE of the Model is  3048.13\n",
      "MSE of The Model is 9291118.69\n",
      "MAE of The Model is 2216.66\n",
      "R2_score of The Model is 0.63\n"
     ]
    }
   ],
   "source": [
    "# CHECKING MEAN SQUARED ERROR & ROOT MEAN SQUARED ERROR \n",
    "\n",
    "Rf_RMSE = round (sqrt(mean_squared_error(y_test, rf_y_pred)),2)\n",
    "Rf_MSE = round (mean_squared_error(y_test, rf_y_pred),2)\n",
    "Rf_MAE = round (mean_absolute_error(y_test, rf_y_pred),2)\n",
    "Rf_R2_score = round (r2_score(y_test, rf_y_pred),2)\n",
    "\n",
    "print (\"RMSE of the Model is \", Rf_RMSE)\n",
    "print ('MSE of The Model is', Rf_MSE)\n",
    "print('MAE of The Model is', Rf_MAE)\n",
    "print ('R2_score of The Model is', Rf_R2_score)"
   ]
  },
  {
   "cell_type": "markdown",
   "id": "50f02069",
   "metadata": {},
   "source": [
    "### ALGORITHM - XgBOOST"
   ]
  },
  {
   "cell_type": "code",
   "execution_count": 74,
   "id": "70180465",
   "metadata": {},
   "outputs": [
    {
     "name": "stdout",
     "output_type": "stream",
     "text": [
      "Requirement already satisfied: xgboost in c:\\users\\anami\\anaconda3\\lib\\site-packages (1.5.2)\n",
      "Requirement already satisfied: numpy in c:\\users\\anami\\anaconda3\\lib\\site-packages (from xgboost) (1.20.3)\n",
      "Requirement already satisfied: scipy in c:\\users\\anami\\anaconda3\\lib\\site-packages (from xgboost) (1.7.1)\n"
     ]
    }
   ],
   "source": [
    "# INSTALLING XgBOOST\n",
    "\n",
    "!pip install xgboost"
   ]
  },
  {
   "cell_type": "code",
   "execution_count": 75,
   "id": "84228eb3",
   "metadata": {},
   "outputs": [],
   "source": [
    "from xgboost import XGBRFRegressor"
   ]
  },
  {
   "cell_type": "code",
   "execution_count": 76,
   "id": "1b0af6a4",
   "metadata": {},
   "outputs": [],
   "source": [
    "#help(Xgbr)"
   ]
  },
  {
   "cell_type": "code",
   "execution_count": 77,
   "id": "fb427e89",
   "metadata": {},
   "outputs": [
    {
     "data": {
      "text/plain": [
       "XGBRFRegressor(base_score=0.5, booster='gbtree', colsample_bylevel=1,\n",
       "               colsample_bytree=1, enable_categorical=False, gamma=0, gpu_id=-1,\n",
       "               importance_type=None, interaction_constraints='',\n",
       "               max_delta_step=0, max_depth=7, min_child_weight=45, missing=nan,\n",
       "               monotone_constraints='()', n_estimators=100, n_jobs=8,\n",
       "               num_parallel_tree=100, objective='reg:squarederror',\n",
       "               predictor='auto', random_state=54, reg_alpha=0,\n",
       "               scale_pos_weight=1, seed=54, tree_method='exact',\n",
       "               validate_parameters=1, verbosity=None)"
      ]
     },
     "execution_count": 77,
     "metadata": {},
     "output_type": "execute_result"
    }
   ],
   "source": [
    "Xgbr = XGBRFRegressor(learning_rate=1.0, max_depth=7, min_child_weight=45, seed=54)\n",
    "\n",
    "Xgbr.fit(X_train, y_train)"
   ]
  },
  {
   "cell_type": "code",
   "execution_count": 78,
   "id": "7030ad9e",
   "metadata": {},
   "outputs": [
    {
     "name": "stdout",
     "output_type": "stream",
     "text": [
      "Train Accuracy: 0.6421763963689775\n",
      "Test Accuracy: 0.6423084553133471\n"
     ]
    }
   ],
   "source": [
    "print(\"Train Accuracy:\", Xgbr.score(X_train, y_train))\n",
    "print(\"Test Accuracy:\", Xgbr.score(X_test,y_test))"
   ]
  },
  {
   "cell_type": "code",
   "execution_count": 79,
   "id": "809ad055",
   "metadata": {},
   "outputs": [
    {
     "data": {
      "text/plain": [
       "XGBRFRegressor(base_score=0.5, booster='gbtree', colsample_bylevel=1,\n",
       "               colsample_bytree=1, enable_categorical=False, gamma=0, gpu_id=-1,\n",
       "               importance_type=None, interaction_constraints='',\n",
       "               max_delta_step=0, max_depth=5, min_child_weight=30, missing=nan,\n",
       "               monotone_constraints='()', n_estimators=100, n_jobs=8,\n",
       "               num_parallel_tree=100, objective='reg:squarederror',\n",
       "               predictor='auto', random_state=54, reg_alpha=0,\n",
       "               scale_pos_weight=1, seed=54, tree_method='exact',\n",
       "               validate_parameters=1, verbosity=None)"
      ]
     },
     "execution_count": 79,
     "metadata": {},
     "output_type": "execute_result"
    }
   ],
   "source": [
    "Xgbr1 = XGBRFRegressor(learning_rate=1.0, max_depth=5, min_child_weight=30, seed=54)\n",
    "\n",
    "Xgbr1.fit(X_train, y_train)"
   ]
  },
  {
   "cell_type": "code",
   "execution_count": 80,
   "id": "c182347f",
   "metadata": {},
   "outputs": [
    {
     "name": "stdout",
     "output_type": "stream",
     "text": [
      "Train Accuracy: 0.5416854131174217\n",
      "Test Accuracy: 0.542098000675298\n"
     ]
    }
   ],
   "source": [
    "print(\"Train Accuracy:\", Xgbr1.score(X_train, y_train))\n",
    "print(\"Test Accuracy:\", Xgbr1.score(X_test,y_test))"
   ]
  },
  {
   "cell_type": "code",
   "execution_count": 81,
   "id": "879d367d",
   "metadata": {},
   "outputs": [
    {
     "name": "stdout",
     "output_type": "stream",
     "text": [
      "Train Accuracy: 0.6118683961781575\n",
      "Test Accuracy: 0.6123294031498159\n"
     ]
    }
   ],
   "source": [
    "Xgbr2 = XGBRFRegressor(learning_rate=1.0, max_depth=6, min_child_weight=40, seed=54)\n",
    "\n",
    "Xgbr2.fit(X_train, y_train)\n",
    "\n",
    "print(\"Train Accuracy:\", Xgbr2.score(X_train, y_train))\n",
    "print(\"Test Accuracy:\", Xgbr2.score(X_test,y_test))"
   ]
  },
  {
   "cell_type": "code",
   "execution_count": 82,
   "id": "e0fa0f3d",
   "metadata": {},
   "outputs": [
    {
     "data": {
      "text/plain": [
       "XGBRFRegressor(base_score=0.5, booster='gbtree', colsample_bylevel=1,\n",
       "               colsample_bytree=1, enable_categorical=False, gamma=1, gpu_id=-1,\n",
       "               importance_type=None, interaction_constraints='',\n",
       "               learning_rate=1, max_delta_step=0, max_depth=8,\n",
       "               min_child_weight=54, missing=nan, monotone_constraints='()',\n",
       "               n_estimators=300, n_jobs=8, num_parallel_tree=300,\n",
       "               objective='reg:squarederror', predictor='auto', random_state=54,\n",
       "               reg_alpha=0, scale_pos_weight=1, seed=54, tree_method='exact',\n",
       "               validate_parameters=1, verbosity=None)"
      ]
     },
     "execution_count": 82,
     "metadata": {},
     "output_type": "execute_result"
    }
   ],
   "source": [
    "Xgbr3 = XGBRFRegressor(learning_rate=1, max_depth=8, min_child_weight=54, \n",
    "                      seed=54, n_estimators = 300, gamma=1)\n",
    "\n",
    "Xgbr3.fit(X_train, y_train)"
   ]
  },
  {
   "cell_type": "code",
   "execution_count": 83,
   "id": "c8ade14e",
   "metadata": {},
   "outputs": [
    {
     "name": "stdout",
     "output_type": "stream",
     "text": [
      "Train Accuracy: 0.6517529293901936\n",
      "Test Accuracy: 0.6515564053294314\n"
     ]
    }
   ],
   "source": [
    "print(\"Train Accuracy:\", Xgbr3.score(X_train, y_train))\n",
    "print(\"Test Accuracy:\", Xgbr3.score(X_test,y_test))"
   ]
  },
  {
   "cell_type": "code",
   "execution_count": 84,
   "id": "9eb17051",
   "metadata": {},
   "outputs": [
    {
     "data": {
      "text/plain": [
       "XGBRFRegressor(base_score=0.5, booster='gbtree', colsample_bylevel=1,\n",
       "               colsample_bytree=1, enable_categorical=False, gamma=1, gpu_id=-1,\n",
       "               importance_type=None, interaction_constraints='',\n",
       "               learning_rate=1, max_delta_step=0, max_depth=12,\n",
       "               min_child_weight=64, missing=nan, monotone_constraints='()',\n",
       "               n_estimators=900, n_jobs=8, num_parallel_tree=900,\n",
       "               objective='reg:squarederror', predictor='auto', random_state=54,\n",
       "               reg_alpha=0, scale_pos_weight=1, seed=54, tree_method='exact',\n",
       "               validate_parameters=1, verbosity=None)"
      ]
     },
     "execution_count": 84,
     "metadata": {},
     "output_type": "execute_result"
    }
   ],
   "source": [
    "Xgbr4 = XGBRFRegressor(learning_rate=1, max_depth=12, min_child_weight=64, \n",
    "                      seed=54, n_estimators = 900, gamma=1)\n",
    "\n",
    "Xgbr4.fit(X_train, y_train)"
   ]
  },
  {
   "cell_type": "code",
   "execution_count": 85,
   "id": "69d73c9f",
   "metadata": {},
   "outputs": [
    {
     "name": "stdout",
     "output_type": "stream",
     "text": [
      "Train Accuracy: 0.6670118587119265\n",
      "Test Accuracy: 0.6626945720104845\n"
     ]
    }
   ],
   "source": [
    "print(\"Train Accuracy:\", Xgbr4.score(X_train, y_train))\n",
    "print(\"Test Accuracy:\", Xgbr4.score(X_test,y_test))"
   ]
  },
  {
   "cell_type": "code",
   "execution_count": 86,
   "id": "9cc0c215",
   "metadata": {},
   "outputs": [
    {
     "data": {
      "text/plain": [
       "XGBRFRegressor(base_score=0.5, booster='gbtree', colsample_bylevel=1,\n",
       "               colsample_bytree=1, enable_categorical=False, gamma=1, gpu_id=-1,\n",
       "               importance_type=None, interaction_constraints='',\n",
       "               learning_rate=1, max_delta_step=0, max_depth=14,\n",
       "               min_child_weight=64, missing=nan, monotone_constraints='()',\n",
       "               n_estimators=1000, n_jobs=8, num_parallel_tree=1000,\n",
       "               objective='reg:squarederror', predictor='auto', random_state=54,\n",
       "               reg_alpha=0, scale_pos_weight=1, seed=54, tree_method='exact',\n",
       "               validate_parameters=1, verbosity=None)"
      ]
     },
     "execution_count": 86,
     "metadata": {},
     "output_type": "execute_result"
    }
   ],
   "source": [
    "Xgbr5 = XGBRFRegressor(learning_rate=1, max_depth=14, min_child_weight=64, \n",
    "                      seed=54, n_estimators = 1000, gamma=1)\n",
    "\n",
    "Xgbr5.fit(X_train, y_train)"
   ]
  },
  {
   "cell_type": "code",
   "execution_count": 87,
   "id": "470a28e8",
   "metadata": {},
   "outputs": [
    {
     "name": "stdout",
     "output_type": "stream",
     "text": [
      "Train Accuracy: 0.6710382047007678\n",
      "Test Accuracy: 0.6640557586143383\n"
     ]
    }
   ],
   "source": [
    "print(\"Train Accuracy:\", Xgbr5.score(X_train, y_train))\n",
    "print(\"Test Accuracy:\", Xgbr5.score(X_test,y_test))"
   ]
  },
  {
   "cell_type": "markdown",
   "id": "6cab001f",
   "metadata": {},
   "source": [
    "ANALYSIS : If we conculude above three accuracies then our best parameters are learning_rate=1, max_depth=14, min_child_weight=64, seed=54, n_estimators = 1000, gamma=1. We are getting best results on these parameters. "
   ]
  },
  {
   "cell_type": "code",
   "execution_count": 88,
   "id": "abf90cd6",
   "metadata": {},
   "outputs": [
    {
     "data": {
      "text/plain": [
       "array([7581.3374, 8120.5806, 7574.4233, ..., 6534.815 , 9907.785 ,\n",
       "       8304.229 ], dtype=float32)"
      ]
     },
     "execution_count": 88,
     "metadata": {},
     "output_type": "execute_result"
    }
   ],
   "source": [
    "Xgbr_y_Pred_train = Xgbr5.predict(X_train)\n",
    "Xgbr_y_Pred_train"
   ]
  },
  {
   "cell_type": "code",
   "execution_count": 89,
   "id": "e44dda08",
   "metadata": {},
   "outputs": [
    {
     "data": {
      "text/plain": [
       "array([12325.788 ,  1350.6461, 15759.357 , ..., 12851.243 , 14617.064 ,\n",
       "       15201.657 ], dtype=float32)"
      ]
     },
     "execution_count": 89,
     "metadata": {},
     "output_type": "execute_result"
    }
   ],
   "source": [
    "Xgbr_y_Pred_test = Xgbr5.predict(X_test)\n",
    "Xgbr_y_Pred_test"
   ]
  },
  {
   "cell_type": "code",
   "execution_count": 90,
   "id": "dee53750",
   "metadata": {},
   "outputs": [
    {
     "name": "stdout",
     "output_type": "stream",
     "text": [
      "RMSE of the Model is  2912.61\n",
      "MSE of the Model is 8483281.73\n",
      "MAE of the Model is 2182.4\n",
      "R2_score of the Model is 0.66\n"
     ]
    }
   ],
   "source": [
    "XgBoost_RMSE = round (sqrt(mean_squared_error(y_test, Xgbr_y_Pred_test)),2)\n",
    "XgBoost_MSE = round (mean_squared_error(y_test, Xgbr_y_Pred_test),2)\n",
    "XgBoost_MAE = round (mean_absolute_error(y_test, Xgbr_y_Pred_test),2)\n",
    "XgBoost_R2_score = round (r2_score(y_test, Xgbr_y_Pred_test),2)\n",
    "\n",
    "print (\"RMSE of the Model is \", XgBoost_RMSE)\n",
    "print ('MSE of the Model is', XgBoost_MSE)\n",
    "print ('MAE of the Model is', XgBoost_MAE)\n",
    "print ('R2_score of the Model is', XgBoost_R2_score)"
   ]
  },
  {
   "cell_type": "markdown",
   "id": "c7444435",
   "metadata": {},
   "source": [
    "### COMPARISONS OF THE MODELS"
   ]
  },
  {
   "cell_type": "code",
   "execution_count": 91,
   "id": "0b75b9ef",
   "metadata": {},
   "outputs": [],
   "source": [
    "Col_Name=[\"Model Name\",\"Accuracy\",\"RMSE\",\"MSE\",\"MAE\", \"R2 Score\"]"
   ]
  },
  {
   "cell_type": "code",
   "execution_count": 92,
   "id": "c3e873f1",
   "metadata": {},
   "outputs": [],
   "source": [
    "Model_Name=[\"Linear Regression\",\"Decision Tree\",\"Random Forest\",\"XgBoost\"]"
   ]
  },
  {
   "cell_type": "code",
   "execution_count": 112,
   "id": "07f11eb0",
   "metadata": {},
   "outputs": [],
   "source": [
    "Accuracy = [round (LR.score(X_test, y_test),2), round (DtR.score(X_test,y_test), 2), \n",
    "            round (Rf1.score(X_test,y_test), 2), round(Xgbr5.score(X_test,y_test), 2)]"
   ]
  },
  {
   "cell_type": "code",
   "execution_count": 94,
   "id": "cff42ce5",
   "metadata": {},
   "outputs": [],
   "source": [
    "RMSE = [LR_RMSE, DT_RMSE, Rf_RMSE, XgBoost_RMSE]"
   ]
  },
  {
   "cell_type": "code",
   "execution_count": 95,
   "id": "317554f0",
   "metadata": {},
   "outputs": [],
   "source": [
    "MSE = [LR_MSE, DT_MSE, Rf_MSE, XgBoost_MSE]"
   ]
  },
  {
   "cell_type": "code",
   "execution_count": 96,
   "id": "1569f754",
   "metadata": {},
   "outputs": [],
   "source": [
    "MAE = [LR_MAE, DT_MAE, Rf_MAE, XgBoost_MAE]"
   ]
  },
  {
   "cell_type": "code",
   "execution_count": 97,
   "id": "744a98ac",
   "metadata": {},
   "outputs": [],
   "source": [
    "R2_Score = [LR_R2_score, DT_R2_score, Rf_R2_score, XgBoost_R2_score] "
   ]
  },
  {
   "cell_type": "code",
   "execution_count": 113,
   "id": "2232f0cc",
   "metadata": {},
   "outputs": [],
   "source": [
    "Comp =(Model_Name,Accuracy,RMSE,MSE,R2_Score)"
   ]
  },
  {
   "cell_type": "code",
   "execution_count": 114,
   "id": "46d22c83",
   "metadata": {},
   "outputs": [],
   "source": [
    "Comp_df=pd.DataFrame(Comp)"
   ]
  },
  {
   "cell_type": "code",
   "execution_count": 115,
   "id": "cb494aa6",
   "metadata": {},
   "outputs": [],
   "source": [
    "Comparison_df=pd.DataFrame(data=list(zip(Model_Name,Accuracy,RMSE,MSE, MAE,R2_Score)),columns=Col_Name)"
   ]
  },
  {
   "cell_type": "code",
   "execution_count": 116,
   "id": "2254a4cb",
   "metadata": {},
   "outputs": [
    {
     "data": {
      "text/html": [
       "<div>\n",
       "<style scoped>\n",
       "    .dataframe tbody tr th:only-of-type {\n",
       "        vertical-align: middle;\n",
       "    }\n",
       "\n",
       "    .dataframe tbody tr th {\n",
       "        vertical-align: top;\n",
       "    }\n",
       "\n",
       "    .dataframe thead th {\n",
       "        text-align: right;\n",
       "    }\n",
       "</style>\n",
       "<table border=\"1\" class=\"dataframe\">\n",
       "  <thead>\n",
       "    <tr style=\"text-align: right;\">\n",
       "      <th></th>\n",
       "      <th>Model Name</th>\n",
       "      <th>Accuracy</th>\n",
       "      <th>RMSE</th>\n",
       "      <th>MSE</th>\n",
       "      <th>MAE</th>\n",
       "      <th>R2 Score</th>\n",
       "    </tr>\n",
       "  </thead>\n",
       "  <tbody>\n",
       "    <tr>\n",
       "      <th>0</th>\n",
       "      <td>Linear Regression</td>\n",
       "      <td>0.16</td>\n",
       "      <td>4614.54</td>\n",
       "      <td>21294021.20</td>\n",
       "      <td>3518.82</td>\n",
       "      <td>0.16</td>\n",
       "    </tr>\n",
       "    <tr>\n",
       "      <th>1</th>\n",
       "      <td>Decision Tree</td>\n",
       "      <td>0.58</td>\n",
       "      <td>3256.17</td>\n",
       "      <td>10602672.46</td>\n",
       "      <td>2409.07</td>\n",
       "      <td>0.58</td>\n",
       "    </tr>\n",
       "    <tr>\n",
       "      <th>2</th>\n",
       "      <td>Random Forest</td>\n",
       "      <td>0.63</td>\n",
       "      <td>3048.13</td>\n",
       "      <td>9291118.69</td>\n",
       "      <td>2216.66</td>\n",
       "      <td>0.63</td>\n",
       "    </tr>\n",
       "    <tr>\n",
       "      <th>3</th>\n",
       "      <td>Xg Boost</td>\n",
       "      <td>0.66</td>\n",
       "      <td>2912.61</td>\n",
       "      <td>8483281.73</td>\n",
       "      <td>2182.40</td>\n",
       "      <td>0.66</td>\n",
       "    </tr>\n",
       "  </tbody>\n",
       "</table>\n",
       "</div>"
      ],
      "text/plain": [
       "          Model Name  Accuracy     RMSE          MSE      MAE  R2 Score\n",
       "0  Linear Regression      0.16  4614.54  21294021.20  3518.82      0.16\n",
       "1      Decision Tree      0.58  3256.17  10602672.46  2409.07      0.58\n",
       "2      Random Forest      0.63  3048.13   9291118.69  2216.66      0.63\n",
       "3           Xg Boost      0.66  2912.61   8483281.73  2182.40      0.66"
      ]
     },
     "execution_count": 116,
     "metadata": {},
     "output_type": "execute_result"
    }
   ],
   "source": [
    "Comparison_df"
   ]
  },
  {
   "cell_type": "markdown",
   "id": "dfa6ff34",
   "metadata": {},
   "source": [
    "### CONCLUSION"
   ]
  },
  {
   "cell_type": "markdown",
   "id": "91450881",
   "metadata": {},
   "source": [
    "As we can see that XgBoost has least RMSE value in the dataframe. So, we will see the prediction on the basis of that."
   ]
  },
  {
   "cell_type": "markdown",
   "id": "b9e89f5e",
   "metadata": {},
   "source": [
    "## TESTING DATA"
   ]
  },
  {
   "cell_type": "code",
   "execution_count": 102,
   "id": "ba7403e4",
   "metadata": {},
   "outputs": [
    {
     "data": {
      "text/html": [
       "<div>\n",
       "<style scoped>\n",
       "    .dataframe tbody tr th:only-of-type {\n",
       "        vertical-align: middle;\n",
       "    }\n",
       "\n",
       "    .dataframe tbody tr th {\n",
       "        vertical-align: top;\n",
       "    }\n",
       "\n",
       "    .dataframe thead th {\n",
       "        text-align: right;\n",
       "    }\n",
       "</style>\n",
       "<table border=\"1\" class=\"dataframe\">\n",
       "  <thead>\n",
       "    <tr style=\"text-align: right;\">\n",
       "      <th></th>\n",
       "      <th>User_ID</th>\n",
       "      <th>Product_ID</th>\n",
       "      <th>Gender</th>\n",
       "      <th>Age</th>\n",
       "      <th>Occupation</th>\n",
       "      <th>City_Category</th>\n",
       "      <th>Stay_In_Current_City_Years</th>\n",
       "      <th>Marital_Status</th>\n",
       "      <th>Product_Category_1</th>\n",
       "      <th>Product_Category_2</th>\n",
       "      <th>Product_Category_3</th>\n",
       "    </tr>\n",
       "  </thead>\n",
       "  <tbody>\n",
       "    <tr>\n",
       "      <th>0</th>\n",
       "      <td>1000004</td>\n",
       "      <td>P00128942</td>\n",
       "      <td>M</td>\n",
       "      <td>46-50</td>\n",
       "      <td>7</td>\n",
       "      <td>B</td>\n",
       "      <td>2</td>\n",
       "      <td>1</td>\n",
       "      <td>1</td>\n",
       "      <td>11.0</td>\n",
       "      <td>NaN</td>\n",
       "    </tr>\n",
       "    <tr>\n",
       "      <th>1</th>\n",
       "      <td>1000009</td>\n",
       "      <td>P00113442</td>\n",
       "      <td>M</td>\n",
       "      <td>26-35</td>\n",
       "      <td>17</td>\n",
       "      <td>C</td>\n",
       "      <td>0</td>\n",
       "      <td>0</td>\n",
       "      <td>3</td>\n",
       "      <td>5.0</td>\n",
       "      <td>NaN</td>\n",
       "    </tr>\n",
       "    <tr>\n",
       "      <th>2</th>\n",
       "      <td>1000010</td>\n",
       "      <td>P00288442</td>\n",
       "      <td>F</td>\n",
       "      <td>36-45</td>\n",
       "      <td>1</td>\n",
       "      <td>B</td>\n",
       "      <td>4+</td>\n",
       "      <td>1</td>\n",
       "      <td>5</td>\n",
       "      <td>14.0</td>\n",
       "      <td>NaN</td>\n",
       "    </tr>\n",
       "    <tr>\n",
       "      <th>3</th>\n",
       "      <td>1000010</td>\n",
       "      <td>P00145342</td>\n",
       "      <td>F</td>\n",
       "      <td>36-45</td>\n",
       "      <td>1</td>\n",
       "      <td>B</td>\n",
       "      <td>4+</td>\n",
       "      <td>1</td>\n",
       "      <td>4</td>\n",
       "      <td>9.0</td>\n",
       "      <td>NaN</td>\n",
       "    </tr>\n",
       "    <tr>\n",
       "      <th>4</th>\n",
       "      <td>1000011</td>\n",
       "      <td>P00053842</td>\n",
       "      <td>F</td>\n",
       "      <td>26-35</td>\n",
       "      <td>1</td>\n",
       "      <td>C</td>\n",
       "      <td>1</td>\n",
       "      <td>0</td>\n",
       "      <td>4</td>\n",
       "      <td>5.0</td>\n",
       "      <td>12.0</td>\n",
       "    </tr>\n",
       "    <tr>\n",
       "      <th>...</th>\n",
       "      <td>...</td>\n",
       "      <td>...</td>\n",
       "      <td>...</td>\n",
       "      <td>...</td>\n",
       "      <td>...</td>\n",
       "      <td>...</td>\n",
       "      <td>...</td>\n",
       "      <td>...</td>\n",
       "      <td>...</td>\n",
       "      <td>...</td>\n",
       "      <td>...</td>\n",
       "    </tr>\n",
       "    <tr>\n",
       "      <th>233594</th>\n",
       "      <td>1006036</td>\n",
       "      <td>P00118942</td>\n",
       "      <td>F</td>\n",
       "      <td>26-35</td>\n",
       "      <td>15</td>\n",
       "      <td>B</td>\n",
       "      <td>4+</td>\n",
       "      <td>1</td>\n",
       "      <td>8</td>\n",
       "      <td>NaN</td>\n",
       "      <td>NaN</td>\n",
       "    </tr>\n",
       "    <tr>\n",
       "      <th>233595</th>\n",
       "      <td>1006036</td>\n",
       "      <td>P00254642</td>\n",
       "      <td>F</td>\n",
       "      <td>26-35</td>\n",
       "      <td>15</td>\n",
       "      <td>B</td>\n",
       "      <td>4+</td>\n",
       "      <td>1</td>\n",
       "      <td>5</td>\n",
       "      <td>8.0</td>\n",
       "      <td>NaN</td>\n",
       "    </tr>\n",
       "    <tr>\n",
       "      <th>233596</th>\n",
       "      <td>1006036</td>\n",
       "      <td>P00031842</td>\n",
       "      <td>F</td>\n",
       "      <td>26-35</td>\n",
       "      <td>15</td>\n",
       "      <td>B</td>\n",
       "      <td>4+</td>\n",
       "      <td>1</td>\n",
       "      <td>1</td>\n",
       "      <td>5.0</td>\n",
       "      <td>12.0</td>\n",
       "    </tr>\n",
       "    <tr>\n",
       "      <th>233597</th>\n",
       "      <td>1006037</td>\n",
       "      <td>P00124742</td>\n",
       "      <td>F</td>\n",
       "      <td>46-50</td>\n",
       "      <td>1</td>\n",
       "      <td>C</td>\n",
       "      <td>4+</td>\n",
       "      <td>0</td>\n",
       "      <td>10</td>\n",
       "      <td>16.0</td>\n",
       "      <td>NaN</td>\n",
       "    </tr>\n",
       "    <tr>\n",
       "      <th>233598</th>\n",
       "      <td>1006039</td>\n",
       "      <td>P00316642</td>\n",
       "      <td>F</td>\n",
       "      <td>46-50</td>\n",
       "      <td>0</td>\n",
       "      <td>B</td>\n",
       "      <td>4+</td>\n",
       "      <td>1</td>\n",
       "      <td>4</td>\n",
       "      <td>5.0</td>\n",
       "      <td>NaN</td>\n",
       "    </tr>\n",
       "  </tbody>\n",
       "</table>\n",
       "<p>233599 rows × 11 columns</p>\n",
       "</div>"
      ],
      "text/plain": [
       "        User_ID Product_ID Gender    Age  Occupation City_Category  \\\n",
       "0       1000004  P00128942      M  46-50           7             B   \n",
       "1       1000009  P00113442      M  26-35          17             C   \n",
       "2       1000010  P00288442      F  36-45           1             B   \n",
       "3       1000010  P00145342      F  36-45           1             B   \n",
       "4       1000011  P00053842      F  26-35           1             C   \n",
       "...         ...        ...    ...    ...         ...           ...   \n",
       "233594  1006036  P00118942      F  26-35          15             B   \n",
       "233595  1006036  P00254642      F  26-35          15             B   \n",
       "233596  1006036  P00031842      F  26-35          15             B   \n",
       "233597  1006037  P00124742      F  46-50           1             C   \n",
       "233598  1006039  P00316642      F  46-50           0             B   \n",
       "\n",
       "       Stay_In_Current_City_Years  Marital_Status  Product_Category_1  \\\n",
       "0                               2               1                   1   \n",
       "1                               0               0                   3   \n",
       "2                              4+               1                   5   \n",
       "3                              4+               1                   4   \n",
       "4                               1               0                   4   \n",
       "...                           ...             ...                 ...   \n",
       "233594                         4+               1                   8   \n",
       "233595                         4+               1                   5   \n",
       "233596                         4+               1                   1   \n",
       "233597                         4+               0                  10   \n",
       "233598                         4+               1                   4   \n",
       "\n",
       "        Product_Category_2  Product_Category_3  \n",
       "0                     11.0                 NaN  \n",
       "1                      5.0                 NaN  \n",
       "2                     14.0                 NaN  \n",
       "3                      9.0                 NaN  \n",
       "4                      5.0                12.0  \n",
       "...                    ...                 ...  \n",
       "233594                 NaN                 NaN  \n",
       "233595                 8.0                 NaN  \n",
       "233596                 5.0                12.0  \n",
       "233597                16.0                 NaN  \n",
       "233598                 5.0                 NaN  \n",
       "\n",
       "[233599 rows x 11 columns]"
      ]
     },
     "execution_count": 102,
     "metadata": {},
     "output_type": "execute_result"
    }
   ],
   "source": [
    "Test_Data = pd.read_csv (r\"E:\\Data Science\\Black Friday\\test.csv\")\n",
    "Test_Data"
   ]
  },
  {
   "cell_type": "markdown",
   "id": "6c7c4673",
   "metadata": {},
   "source": [
    "#### EXPLORATORY DATA ANALYSIS"
   ]
  },
  {
   "cell_type": "code",
   "execution_count": 103,
   "id": "ad338a88",
   "metadata": {},
   "outputs": [],
   "source": [
    "# DROPPING UNIQUE VARIABLES\n",
    "Test_Data.drop (columns = ['User_ID', 'Product_ID'], inplace = True)"
   ]
  },
  {
   "cell_type": "code",
   "execution_count": 104,
   "id": "44e74726",
   "metadata": {},
   "outputs": [],
   "source": [
    "# FILLING MISSING VALUES\n",
    "Test_Data['Product_Category_2'] =Test_Data['Product_Category_2'].fillna(0).astype('int64')\n",
    "Test_Data['Product_Category_3'] =Test_Data['Product_Category_3'].fillna(99).astype('int64')"
   ]
  },
  {
   "cell_type": "code",
   "execution_count": 105,
   "id": "d4fa3ae9",
   "metadata": {},
   "outputs": [],
   "source": [
    "# CONVERSION FROM CATEGORICAL TO NUMERICAL \n",
    "from sklearn import preprocessing\n",
    "\n",
    "LE = preprocessing.LabelEncoder()\n",
    "\n",
    "Test_Data ['Gender']= LE.fit_transform(Test_Data['Gender'])\n",
    "Test_Data ['Age']= LE.fit_transform(Test_Data['Age'])\n",
    "Test_Data ['City_Category']= LE.fit_transform(Test_Data['City_Category'])\n",
    "Test_Data ['Stay_In_Current_City_Years']= LE.fit_transform(Test_Data['Stay_In_Current_City_Years'])"
   ]
  },
  {
   "cell_type": "code",
   "execution_count": 106,
   "id": "e62fbd25",
   "metadata": {},
   "outputs": [
    {
     "data": {
      "text/html": [
       "<div>\n",
       "<style scoped>\n",
       "    .dataframe tbody tr th:only-of-type {\n",
       "        vertical-align: middle;\n",
       "    }\n",
       "\n",
       "    .dataframe tbody tr th {\n",
       "        vertical-align: top;\n",
       "    }\n",
       "\n",
       "    .dataframe thead th {\n",
       "        text-align: right;\n",
       "    }\n",
       "</style>\n",
       "<table border=\"1\" class=\"dataframe\">\n",
       "  <thead>\n",
       "    <tr style=\"text-align: right;\">\n",
       "      <th></th>\n",
       "      <th>Gender</th>\n",
       "      <th>Age</th>\n",
       "      <th>Occupation</th>\n",
       "      <th>City_Category</th>\n",
       "      <th>Stay_In_Current_City_Years</th>\n",
       "      <th>Marital_Status</th>\n",
       "      <th>Product_Category_1</th>\n",
       "      <th>Product_Category_2</th>\n",
       "      <th>Product_Category_3</th>\n",
       "    </tr>\n",
       "  </thead>\n",
       "  <tbody>\n",
       "    <tr>\n",
       "      <th>0</th>\n",
       "      <td>1</td>\n",
       "      <td>4</td>\n",
       "      <td>7</td>\n",
       "      <td>1</td>\n",
       "      <td>2</td>\n",
       "      <td>1</td>\n",
       "      <td>1</td>\n",
       "      <td>11</td>\n",
       "      <td>99</td>\n",
       "    </tr>\n",
       "    <tr>\n",
       "      <th>1</th>\n",
       "      <td>1</td>\n",
       "      <td>2</td>\n",
       "      <td>17</td>\n",
       "      <td>2</td>\n",
       "      <td>0</td>\n",
       "      <td>0</td>\n",
       "      <td>3</td>\n",
       "      <td>5</td>\n",
       "      <td>99</td>\n",
       "    </tr>\n",
       "    <tr>\n",
       "      <th>2</th>\n",
       "      <td>0</td>\n",
       "      <td>3</td>\n",
       "      <td>1</td>\n",
       "      <td>1</td>\n",
       "      <td>4</td>\n",
       "      <td>1</td>\n",
       "      <td>5</td>\n",
       "      <td>14</td>\n",
       "      <td>99</td>\n",
       "    </tr>\n",
       "    <tr>\n",
       "      <th>3</th>\n",
       "      <td>0</td>\n",
       "      <td>3</td>\n",
       "      <td>1</td>\n",
       "      <td>1</td>\n",
       "      <td>4</td>\n",
       "      <td>1</td>\n",
       "      <td>4</td>\n",
       "      <td>9</td>\n",
       "      <td>99</td>\n",
       "    </tr>\n",
       "    <tr>\n",
       "      <th>4</th>\n",
       "      <td>0</td>\n",
       "      <td>2</td>\n",
       "      <td>1</td>\n",
       "      <td>2</td>\n",
       "      <td>1</td>\n",
       "      <td>0</td>\n",
       "      <td>4</td>\n",
       "      <td>5</td>\n",
       "      <td>12</td>\n",
       "    </tr>\n",
       "    <tr>\n",
       "      <th>...</th>\n",
       "      <td>...</td>\n",
       "      <td>...</td>\n",
       "      <td>...</td>\n",
       "      <td>...</td>\n",
       "      <td>...</td>\n",
       "      <td>...</td>\n",
       "      <td>...</td>\n",
       "      <td>...</td>\n",
       "      <td>...</td>\n",
       "    </tr>\n",
       "    <tr>\n",
       "      <th>233594</th>\n",
       "      <td>0</td>\n",
       "      <td>2</td>\n",
       "      <td>15</td>\n",
       "      <td>1</td>\n",
       "      <td>4</td>\n",
       "      <td>1</td>\n",
       "      <td>8</td>\n",
       "      <td>0</td>\n",
       "      <td>99</td>\n",
       "    </tr>\n",
       "    <tr>\n",
       "      <th>233595</th>\n",
       "      <td>0</td>\n",
       "      <td>2</td>\n",
       "      <td>15</td>\n",
       "      <td>1</td>\n",
       "      <td>4</td>\n",
       "      <td>1</td>\n",
       "      <td>5</td>\n",
       "      <td>8</td>\n",
       "      <td>99</td>\n",
       "    </tr>\n",
       "    <tr>\n",
       "      <th>233596</th>\n",
       "      <td>0</td>\n",
       "      <td>2</td>\n",
       "      <td>15</td>\n",
       "      <td>1</td>\n",
       "      <td>4</td>\n",
       "      <td>1</td>\n",
       "      <td>1</td>\n",
       "      <td>5</td>\n",
       "      <td>12</td>\n",
       "    </tr>\n",
       "    <tr>\n",
       "      <th>233597</th>\n",
       "      <td>0</td>\n",
       "      <td>4</td>\n",
       "      <td>1</td>\n",
       "      <td>2</td>\n",
       "      <td>4</td>\n",
       "      <td>0</td>\n",
       "      <td>10</td>\n",
       "      <td>16</td>\n",
       "      <td>99</td>\n",
       "    </tr>\n",
       "    <tr>\n",
       "      <th>233598</th>\n",
       "      <td>0</td>\n",
       "      <td>4</td>\n",
       "      <td>0</td>\n",
       "      <td>1</td>\n",
       "      <td>4</td>\n",
       "      <td>1</td>\n",
       "      <td>4</td>\n",
       "      <td>5</td>\n",
       "      <td>99</td>\n",
       "    </tr>\n",
       "  </tbody>\n",
       "</table>\n",
       "<p>233599 rows × 9 columns</p>\n",
       "</div>"
      ],
      "text/plain": [
       "        Gender  Age  Occupation  City_Category  Stay_In_Current_City_Years  \\\n",
       "0            1    4           7              1                           2   \n",
       "1            1    2          17              2                           0   \n",
       "2            0    3           1              1                           4   \n",
       "3            0    3           1              1                           4   \n",
       "4            0    2           1              2                           1   \n",
       "...        ...  ...         ...            ...                         ...   \n",
       "233594       0    2          15              1                           4   \n",
       "233595       0    2          15              1                           4   \n",
       "233596       0    2          15              1                           4   \n",
       "233597       0    4           1              2                           4   \n",
       "233598       0    4           0              1                           4   \n",
       "\n",
       "        Marital_Status  Product_Category_1  Product_Category_2  \\\n",
       "0                    1                   1                  11   \n",
       "1                    0                   3                   5   \n",
       "2                    1                   5                  14   \n",
       "3                    1                   4                   9   \n",
       "4                    0                   4                   5   \n",
       "...                ...                 ...                 ...   \n",
       "233594               1                   8                   0   \n",
       "233595               1                   5                   8   \n",
       "233596               1                   1                   5   \n",
       "233597               0                  10                  16   \n",
       "233598               1                   4                   5   \n",
       "\n",
       "        Product_Category_3  \n",
       "0                       99  \n",
       "1                       99  \n",
       "2                       99  \n",
       "3                       99  \n",
       "4                       12  \n",
       "...                    ...  \n",
       "233594                  99  \n",
       "233595                  99  \n",
       "233596                  12  \n",
       "233597                  99  \n",
       "233598                  99  \n",
       "\n",
       "[233599 rows x 9 columns]"
      ]
     },
     "execution_count": 106,
     "metadata": {},
     "output_type": "execute_result"
    }
   ],
   "source": [
    "Test_Data"
   ]
  },
  {
   "cell_type": "code",
   "execution_count": 107,
   "id": "0060bf5b",
   "metadata": {},
   "outputs": [
    {
     "data": {
      "text/plain": [
       "array([13121.95  , 10751.24  ,  6181.378 , ..., 12910.851 , 16279.215 ,\n",
       "        2249.4092], dtype=float32)"
      ]
     },
     "execution_count": 107,
     "metadata": {},
     "output_type": "execute_result"
    }
   ],
   "source": [
    "# PREDICTING THE DATA BY USING XgBOOST ALGORITHM\n",
    "Pred_Test=Xgbr.predict(Test_Data)\n",
    "Pred_Test"
   ]
  },
  {
   "cell_type": "code",
   "execution_count": 108,
   "id": "579ee129",
   "metadata": {},
   "outputs": [
    {
     "data": {
      "text/html": [
       "<div>\n",
       "<style scoped>\n",
       "    .dataframe tbody tr th:only-of-type {\n",
       "        vertical-align: middle;\n",
       "    }\n",
       "\n",
       "    .dataframe tbody tr th {\n",
       "        vertical-align: top;\n",
       "    }\n",
       "\n",
       "    .dataframe thead th {\n",
       "        text-align: right;\n",
       "    }\n",
       "</style>\n",
       "<table border=\"1\" class=\"dataframe\">\n",
       "  <thead>\n",
       "    <tr style=\"text-align: right;\">\n",
       "      <th></th>\n",
       "      <th>Purchase</th>\n",
       "    </tr>\n",
       "  </thead>\n",
       "  <tbody>\n",
       "    <tr>\n",
       "      <th>0</th>\n",
       "      <td>13121.950195</td>\n",
       "    </tr>\n",
       "    <tr>\n",
       "      <th>1</th>\n",
       "      <td>10751.240234</td>\n",
       "    </tr>\n",
       "    <tr>\n",
       "      <th>2</th>\n",
       "      <td>6181.377930</td>\n",
       "    </tr>\n",
       "    <tr>\n",
       "      <th>3</th>\n",
       "      <td>2598.914307</td>\n",
       "    </tr>\n",
       "    <tr>\n",
       "      <th>4</th>\n",
       "      <td>2530.446777</td>\n",
       "    </tr>\n",
       "    <tr>\n",
       "      <th>...</th>\n",
       "      <td>...</td>\n",
       "    </tr>\n",
       "    <tr>\n",
       "      <th>233594</th>\n",
       "      <td>7553.885742</td>\n",
       "    </tr>\n",
       "    <tr>\n",
       "      <th>233595</th>\n",
       "      <td>6274.397949</td>\n",
       "    </tr>\n",
       "    <tr>\n",
       "      <th>233596</th>\n",
       "      <td>12910.850586</td>\n",
       "    </tr>\n",
       "    <tr>\n",
       "      <th>233597</th>\n",
       "      <td>16279.214844</td>\n",
       "    </tr>\n",
       "    <tr>\n",
       "      <th>233598</th>\n",
       "      <td>2249.409180</td>\n",
       "    </tr>\n",
       "  </tbody>\n",
       "</table>\n",
       "<p>233599 rows × 1 columns</p>\n",
       "</div>"
      ],
      "text/plain": [
       "            Purchase\n",
       "0       13121.950195\n",
       "1       10751.240234\n",
       "2        6181.377930\n",
       "3        2598.914307\n",
       "4        2530.446777\n",
       "...              ...\n",
       "233594   7553.885742\n",
       "233595   6274.397949\n",
       "233596  12910.850586\n",
       "233597  16279.214844\n",
       "233598   2249.409180\n",
       "\n",
       "[233599 rows x 1 columns]"
      ]
     },
     "execution_count": 108,
     "metadata": {},
     "output_type": "execute_result"
    }
   ],
   "source": [
    "Pred_data = pd.DataFrame(Pred_Test,columns=['Purchase'])\n",
    "Pred_data"
   ]
  },
  {
   "cell_type": "code",
   "execution_count": 120,
   "id": "464ae636",
   "metadata": {},
   "outputs": [],
   "source": [
    "# FINAL SUBMISSION\n",
    "\n",
    "Pred_data.to_csv('Prediction.csv')\n",
    "# TO SEE THE RESULT KINDLY CHECK THE EXCEL FILE"
   ]
  },
  {
   "cell_type": "markdown",
   "id": "f380e174",
   "metadata": {},
   "source": [
    "_________________________________________________\"END OF THE PROJECT\"__________________________________________________________"
   ]
  }
 ],
 "metadata": {
  "kernelspec": {
   "display_name": "Python 3 (ipykernel)",
   "language": "python",
   "name": "python3"
  },
  "language_info": {
   "codemirror_mode": {
    "name": "ipython",
    "version": 3
   },
   "file_extension": ".py",
   "mimetype": "text/x-python",
   "name": "python",
   "nbconvert_exporter": "python",
   "pygments_lexer": "ipython3",
   "version": "3.9.7"
  }
 },
 "nbformat": 4,
 "nbformat_minor": 5
}
